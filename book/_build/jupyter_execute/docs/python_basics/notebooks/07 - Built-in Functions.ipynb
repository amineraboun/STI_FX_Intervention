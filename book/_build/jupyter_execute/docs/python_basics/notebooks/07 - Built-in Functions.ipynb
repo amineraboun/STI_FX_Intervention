{
 "cells": [
  {
   "cell_type": "markdown",
   "metadata": {
    "colab_type": "text",
    "id": "view-in-github"
   },
   "source": [
    "<a href=\"https://colab.research.google.com/github/MachineLearnia/Python-tutoriel/blob/master/07%20-%20Built-in%20Functions.ipynb\" target=\"_parent\"><img src=\"https://colab.research.google.com/assets/colab-badge.svg\" alt=\"Open In Colab\"/></a>"
   ]
  },
  {
   "cell_type": "markdown",
   "metadata": {
    "colab_type": "text",
    "id": "VVszUmwz-bFM"
   },
   "source": [
    "# 7/30 Built-in Functions\n",
    "Python contient un grand nombre de fonctions intégrées tres utiles a connaitre. Cela vous permet de construire des codes plus rapidement, sans avoir a développer vos propres fonctions pour les taches les plus basique. Dans ce notebook, je vous montre les plus importantes :\n",
    "\n",
    "- Fonctions de bases : abs(), round(), max(), min(), len(), sum(), any(), all()\n",
    "- Conversions de types de variables: int() str(), float(), type()\n",
    "- Conversions de structures de données: list(), tuple()\n",
    "- Conversions binaires (moins utile en machine learning): bin(), oct(), hex() \n",
    "- Fonction **input()**\n",
    "- Fonction **format()** (f-string)\n",
    "- Fonction **open()**"
   ]
  },
  {
   "cell_type": "markdown",
   "metadata": {
    "colab_type": "text",
    "id": "i_Gg60cR_oFB"
   },
   "source": [
    "## 1. Fonction de bases\n",
    "Utiles en toute circonstance !"
   ]
  },
  {
   "cell_type": "code",
   "execution_count": 1,
   "metadata": {
    "colab": {
     "base_uri": "https://localhost:8080/",
     "height": 51
    },
    "colab_type": "code",
    "id": "EAfp-li6-ZSD",
    "outputId": "c6a56073-a7b7-40b9-cdeb-114e9a607ce1"
   },
   "outputs": [
    {
     "name": "stdout",
     "output_type": "stream",
     "text": [
      "3.14\n",
      "-3\n"
     ]
    }
   ],
   "source": [
    "x = -3.14\n",
    "print(abs(x)) # valeur absolue\n",
    "print(round(x)) # arrondi"
   ]
  },
  {
   "cell_type": "code",
   "execution_count": 2,
   "metadata": {
    "colab": {
     "base_uri": "https://localhost:8080/",
     "height": 85
    },
    "colab_type": "code",
    "id": "YnTEUj20_3Wq",
    "outputId": "349fb051-30e0-4366-8411-2e994071c9bb"
   },
   "outputs": [
    {
     "name": "stdout",
     "output_type": "stream",
     "text": [
      "-4\n",
      "3\n",
      "5\n",
      "-2\n"
     ]
    }
   ],
   "source": [
    "liste = [-2, 3, 1, 0, -4]\n",
    "\n",
    "print(min(liste)) # minimum\n",
    "print(max(liste)) # maximum\n",
    "print(len(liste)) # longueur\n",
    "print(sum(liste)) # somme des éléments"
   ]
  },
  {
   "cell_type": "code",
   "execution_count": 4,
   "metadata": {
    "colab": {
     "base_uri": "https://localhost:8080/",
     "height": 51
    },
    "colab_type": "code",
    "id": "c3I6FPVkANmN",
    "outputId": "a155cc37-193e-458c-b8af-132bb972ed4b"
   },
   "outputs": [
    {
     "name": "stdout",
     "output_type": "stream",
     "text": [
      "True\n",
      "False\n"
     ]
    }
   ],
   "source": [
    "liste = [False, False, True]\n",
    "\n",
    "print(any(liste)) # y-a-t'il au moins un élément True ?\n",
    "print(all(liste)) # est-ce-que tous les éléments sont True ?"
   ]
  },
  {
   "cell_type": "markdown",
   "metadata": {
    "colab_type": "text",
    "id": "2CKqQf0YAuvN"
   },
   "source": [
    "## 2. Fonction de conversion\n",
    "Il peut etre tres utile de convertir une variable d'un type a un autre (par exemple pour faire des calculs). Pour cela, on dispose des fonctions int(), str() et float().\n",
    "\n",
    "La fonction **type()** est tres utile pour inspecter les types de nos variables"
   ]
  },
  {
   "cell_type": "code",
   "execution_count": 6,
   "metadata": {
    "colab": {
     "base_uri": "https://localhost:8080/",
     "height": 34
    },
    "colab_type": "code",
    "id": "-_P3CGAvAatE",
    "outputId": "b7d86d2a-ac56-4165-80cd-4c98e19f6d04"
   },
   "outputs": [
    {
     "data": {
      "text/plain": [
       "str"
      ]
     },
     "execution_count": 6,
     "metadata": {
      "tags": []
     },
     "output_type": "execute_result"
    }
   ],
   "source": [
    "age = '32'\n",
    "type(age)"
   ]
  },
  {
   "cell_type": "code",
   "execution_count": 8,
   "metadata": {
    "colab": {
     "base_uri": "https://localhost:8080/",
     "height": 34
    },
    "colab_type": "code",
    "id": "9QkhdpCEBK0W",
    "outputId": "f0a8a95c-d0cb-4551-9f08-a4021a68ed93"
   },
   "outputs": [
    {
     "data": {
      "text/plain": [
       "int"
      ]
     },
     "execution_count": 8,
     "metadata": {
      "tags": []
     },
     "output_type": "execute_result"
    }
   ],
   "source": [
    "age = int(age)\n",
    "type(age)"
   ]
  },
  {
   "cell_type": "code",
   "execution_count": 9,
   "metadata": {
    "colab": {
     "base_uri": "https://localhost:8080/",
     "height": 34
    },
    "colab_type": "code",
    "id": "5DDHy7qBBT9l",
    "outputId": "cef6fe90-15f3-40ad-9239-e742c56db63c"
   },
   "outputs": [
    {
     "data": {
      "text/plain": [
       "42"
      ]
     },
     "execution_count": 9,
     "metadata": {
      "tags": []
     },
     "output_type": "execute_result"
    }
   ],
   "source": [
    "age + 10"
   ]
  },
  {
   "cell_type": "markdown",
   "metadata": {
    "colab_type": "text",
    "id": "MYxly1nnBhxL"
   },
   "source": [
    "On peut également convertir des listes en tuples, ou des tableaux Numpy (que l'on verra par la suite) en liste..."
   ]
  },
  {
   "cell_type": "code",
   "execution_count": 11,
   "metadata": {
    "colab": {
     "base_uri": "https://localhost:8080/",
     "height": 34
    },
    "colab_type": "code",
    "id": "sl7n5xP8BWCW",
    "outputId": "b0e48c93-f717-427e-be8c-83864da48fdd"
   },
   "outputs": [
    {
     "data": {
      "text/plain": [
       "list"
      ]
     },
     "execution_count": 11,
     "metadata": {
      "tags": []
     },
     "output_type": "execute_result"
    }
   ],
   "source": [
    "tuple_1 = (1, 2, 3, 4)\n",
    "\n",
    "liste_1 = list(tuple_1) # convertir un tuple en liste\n",
    "\n",
    "type(liste_1)"
   ]
  },
  {
   "cell_type": "markdown",
   "metadata": {
    "colab_type": "text",
    "id": "orx_mdrPCCqx"
   },
   "source": [
    "## 3. La fonction **input()**\n",
    "Cette fonction est tres utile pour demander a l'utilisateur du programme d'entrer une valeur dans votre programme"
   ]
  },
  {
   "cell_type": "code",
   "execution_count": 12,
   "metadata": {
    "colab": {
     "base_uri": "https://localhost:8080/",
     "height": 34
    },
    "colab_type": "code",
    "id": "VRzdH0oeB3w8",
    "outputId": "4535b183-4540-477d-c649-e0446c75d2a8"
   },
   "outputs": [
    {
     "name": "stdout",
     "output_type": "stream",
     "text": [
      "quel age avez-vous ?30 ans\n"
     ]
    }
   ],
   "source": [
    "age = input('quel age avez-vous ?')"
   ]
  },
  {
   "cell_type": "code",
   "execution_count": 14,
   "metadata": {
    "colab": {
     "base_uri": "https://localhost:8080/",
     "height": 34
    },
    "colab_type": "code",
    "id": "mR0irKo7CXFj",
    "outputId": "2df066f9-12a1-4ba5-dc82-05cc376598f2"
   },
   "outputs": [
    {
     "data": {
      "text/plain": [
       "str"
      ]
     },
     "execution_count": 14,
     "metadata": {
      "tags": []
     },
     "output_type": "execute_result"
    }
   ],
   "source": [
    "type(age) # age est de type string. il faut penser a le convertir si on désire faire un calcul avec"
   ]
  },
  {
   "cell_type": "markdown",
   "metadata": {
    "colab_type": "text",
    "id": "ClGnpncTCpSh"
   },
   "source": [
    "## 4. La fonction **format()**\n",
    "cette fonction permet d'insérer la valeur d'une variable au sein d'une chaine de cacacteres (string).\n",
    "\n",
    "Une méthode plus rapide pour utiliser cette fonction est de faire appel au **f-string**"
   ]
  },
  {
   "cell_type": "code",
   "execution_count": 15,
   "metadata": {
    "colab": {
     "base_uri": "https://localhost:8080/",
     "height": 34
    },
    "colab_type": "code",
    "id": "YNo1gncmCZjb",
    "outputId": "e4e51b60-5b8d-422b-a1c8-2d26fa34f4e0"
   },
   "outputs": [
    {
     "name": "stdout",
     "output_type": "stream",
     "text": [
      "il faut 25 degrés a Paris\n"
     ]
    }
   ],
   "source": [
    "x = 25\n",
    "ville = 'Paris'\n",
    "\n",
    "message = 'il fait {} degrés a {}'.format(x, ville)\n",
    "print(message)"
   ]
  },
  {
   "cell_type": "code",
   "execution_count": 17,
   "metadata": {
    "colab": {
     "base_uri": "https://localhost:8080/",
     "height": 34
    },
    "colab_type": "code",
    "id": "h3xtfGoHDCmu",
    "outputId": "45d10f11-4183-4daa-852c-3b86dac38002"
   },
   "outputs": [
    {
     "name": "stdout",
     "output_type": "stream",
     "text": [
      "il fait 25 degrées a Paris\n"
     ]
    }
   ],
   "source": [
    "message = f'il fait {x} degrées a {ville}'\n",
    "print(message)"
   ]
  },
  {
   "cell_type": "markdown",
   "metadata": {
    "colab_type": "text",
    "id": "PWFMzobFDkfP"
   },
   "source": [
    "## 5. La fonction **open()**\n",
    "Cette fonction est l'une des plus utile de Python. Elle permet d'ouvrir n'importe quel fichier de votre ordinateur et de l'utiliser dans Python. Différents modes existent :\n",
    "- le mode 'r' : lire un fichier de votre ordinateur\n",
    "- le mode 'w' : écrire un fichier sur votre ordinateur\n",
    "- le mode 'a' : (append) ajouter du contenu dans un fichier existant"
   ]
  },
  {
   "cell_type": "code",
   "execution_count": 0,
   "metadata": {
    "colab": {},
    "colab_type": "code",
    "id": "ovu_J5rhDS0-"
   },
   "outputs": [],
   "source": [
    "f = open('text.txt', 'w') # ouverture d'un objet fichier f\n",
    "f.write('hello')\n",
    "f.close() # il faut fermer notre fichier une fois le travail terminé"
   ]
  },
  {
   "cell_type": "code",
   "execution_count": 20,
   "metadata": {
    "colab": {
     "base_uri": "https://localhost:8080/",
     "height": 34
    },
    "colab_type": "code",
    "id": "3GjqncN3NvO8",
    "outputId": "c94ca820-e42b-47d4-8840-425110ad62ef"
   },
   "outputs": [
    {
     "name": "stdout",
     "output_type": "stream",
     "text": [
      "hello\n"
     ]
    }
   ],
   "source": [
    "f = open('text.txt', 'r')\n",
    "print(f.read())\n",
    "f.close() "
   ]
  },
  {
   "cell_type": "markdown",
   "metadata": {
    "colab_type": "text",
    "id": "tjuY60QsN3Ax"
   },
   "source": [
    "Dans la pratique, on écrit plus souvent **with open() as f** pour ne pas avoir a fermer le fichier une fois le travail effectué :"
   ]
  },
  {
   "cell_type": "code",
   "execution_count": 21,
   "metadata": {
    "colab": {
     "base_uri": "https://localhost:8080/",
     "height": 34
    },
    "colab_type": "code",
    "id": "8NeneA9zNy6N",
    "outputId": "74c9c575-68f2-4250-82b5-eca1c73669ee"
   },
   "outputs": [
    {
     "name": "stdout",
     "output_type": "stream",
     "text": [
      "hello\n"
     ]
    }
   ],
   "source": [
    "with open('text.txt', 'r') as f:\n",
    "    print(f.read())"
   ]
  },
  {
   "cell_type": "markdown",
   "metadata": {
    "colab_type": "text",
    "id": "4W96D02DOVmC"
   },
   "source": [
    "## 6. Exercice et Solution\n",
    "Le code ci-dessous permet de créer un fichier qui contient les nombres carrée de 0 jusqu'a 19.\n",
    "L'exercice est d'implémenter un code qui permet de lire ce fichier et d'écrire chaque ligne dans une liste.\n",
    "\n",
    "Note_1 : la fonction **read().splitlines()** sera tres utile\n",
    "\n",
    "Note_2 : Pour un meilleur résultat, essayer d'utiliser une liste comprehension !"
   ]
  },
  {
   "cell_type": "code",
   "execution_count": 0,
   "metadata": {
    "colab": {},
    "colab_type": "code",
    "id": "5NOsB5k5OAlC"
   },
   "outputs": [],
   "source": [
    "# Ce bout de code permet d'écrire le fichier \n",
    "with open('fichier.txt', 'w') as f:\n",
    "    for i in range(0, 20):\n",
    "        f.write(f'{i}: {i**2} \\n')\n",
    "    f.close()\n",
    "\n",
    "# Écrivez ici le code pour lire le fichier et enregistrer chaque lignes dans une liste."
   ]
  },
  {
   "cell_type": "code",
   "execution_count": 32,
   "metadata": {
    "colab": {
     "base_uri": "https://localhost:8080/",
     "height": 357
    },
    "colab_type": "code",
    "id": "ua9uDeenOtdl",
    "outputId": "790d5c6f-5f81-480f-8218-6777cf4a4fa6"
   },
   "outputs": [
    {
     "data": {
      "text/plain": [
       "['0: 0 ',\n",
       " '1: 1 ',\n",
       " '2: 4 ',\n",
       " '3: 9 ',\n",
       " '4: 16 ',\n",
       " '5: 25 ',\n",
       " '6: 36 ',\n",
       " '7: 49 ',\n",
       " '8: 64 ',\n",
       " '9: 81 ',\n",
       " '10: 100 ',\n",
       " '11: 121 ',\n",
       " '12: 144 ',\n",
       " '13: 169 ',\n",
       " '14: 196 ',\n",
       " '15: 225 ',\n",
       " '16: 256 ',\n",
       " '17: 289 ',\n",
       " '18: 324 ',\n",
       " '19: 361 ']"
      ]
     },
     "execution_count": 32,
     "metadata": {
      "tags": []
     },
     "output_type": "execute_result"
    }
   ],
   "source": [
    "# SOLUTION (non optimale)\n",
    "with open('fichier.txt','r') as f:\n",
    "    liste = f.read().splitlines()\n",
    "\n",
    "liste"
   ]
  },
  {
   "cell_type": "code",
   "execution_count": 31,
   "metadata": {
    "colab": {
     "base_uri": "https://localhost:8080/",
     "height": 357
    },
    "colab_type": "code",
    "id": "HC9zEPSlPFKE",
    "outputId": "51f9cd11-fd8a-4001-e5a4-8a56569a8b3d"
   },
   "outputs": [
    {
     "data": {
      "text/plain": [
       "['0: 0',\n",
       " '1: 1',\n",
       " '2: 4',\n",
       " '3: 9',\n",
       " '4: 16',\n",
       " '5: 25',\n",
       " '6: 36',\n",
       " '7: 49',\n",
       " '8: 64',\n",
       " '9: 81',\n",
       " '10: 100',\n",
       " '11: 121',\n",
       " '12: 144',\n",
       " '13: 169',\n",
       " '14: 196',\n",
       " '15: 225',\n",
       " '16: 256',\n",
       " '17: 289',\n",
       " '18: 324',\n",
       " '19: 361']"
      ]
     },
     "execution_count": 31,
     "metadata": {
      "tags": []
     },
     "output_type": "execute_result"
    }
   ],
   "source": [
    "# SOLUTION (Améliorée)\n",
    "# Une meilleure facon de procéder est d'utiliser une liste comprehension !\n",
    "\n",
    "liste = [row.strip() for row in open('fichier.txt','r')]\n",
    "liste"
   ]
  },
  {
   "cell_type": "code",
   "execution_count": 0,
   "metadata": {
    "colab": {},
    "colab_type": "code",
    "id": "hpbjZcGaQQN1"
   },
   "outputs": [],
   "source": []
  }
 ],
 "metadata": {
  "colab": {
   "authorship_tag": "ABX9TyMvLW57+7Hc/4mujStMvV7z",
   "collapsed_sections": [],
   "include_colab_link": true,
   "name": "Untitled4.ipynb",
   "provenance": []
  },
  "kernelspec": {
   "display_name": "Python 3",
   "name": "python3"
  }
 },
 "nbformat": 4,
 "nbformat_minor": 0
}