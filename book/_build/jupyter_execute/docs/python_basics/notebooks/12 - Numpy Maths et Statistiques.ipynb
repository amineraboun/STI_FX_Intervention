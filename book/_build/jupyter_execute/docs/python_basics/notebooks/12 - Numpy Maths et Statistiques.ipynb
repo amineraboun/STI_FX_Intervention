{
 "cells": [
  {
   "cell_type": "markdown",
   "metadata": {
    "colab_type": "text",
    "id": "view-in-github"
   },
   "source": [
    "<a href=\"https://colab.research.google.com/github/MachineLearnia/Python-Machine-Learning/blob/master/12%20-%20Numpy%20Maths%20et%20Statistiques.ipynb\" target=\"_parent\"><img src=\"https://colab.research.google.com/assets/colab-badge.svg\" alt=\"Open In Colab\"/></a>"
   ]
  },
  {
   "cell_type": "markdown",
   "metadata": {
    "colab_type": "text",
    "id": "1CXrPX3b1Fqz"
   },
   "source": [
    "# 12/30 Numpy : Mathématiques"
   ]
  },
  {
   "cell_type": "code",
   "execution_count": 0,
   "metadata": {
    "colab": {},
    "colab_type": "code",
    "id": "jnkYo8bz1e-P"
   },
   "outputs": [],
   "source": [
    "import numpy as np"
   ]
  },
  {
   "cell_type": "markdown",
   "metadata": {
    "colab_type": "text",
    "id": "6_N90vFm1T7v"
   },
   "source": [
    "## 1. Méthodes de bases (les plus utiles) de la classe ndarray"
   ]
  },
  {
   "cell_type": "code",
   "execution_count": 18,
   "metadata": {
    "colab": {
     "base_uri": "https://localhost:8080/",
     "height": 221
    },
    "colab_type": "code",
    "id": "d8cWapdZ1Cho",
    "outputId": "5aaafff2-6c19-4a6e-db40-0ad1fdba78b5"
   },
   "outputs": [
    {
     "name": "stdout",
     "output_type": "stream",
     "text": [
      "21\n",
      "[5 7 9]\n",
      "[ 6 15]\n",
      "[[1 2 3]\n",
      " [5 7 9]]\n",
      "720\n",
      "[  1   2   6  24 120 720]\n",
      "1\n",
      "6\n",
      "3.5\n",
      "1.707825127659933\n",
      "2.9166666666666665\n"
     ]
    }
   ],
   "source": [
    "A = np.array([[1, 2, 3], [4, 5, 6]])\n",
    "\n",
    "print(A.sum()) # effectue la somme de tous les éléments du tableau\n",
    "print(A.sum(axis=0)) # effectue la somme des colonnes (somme sur éléments des les lignes)\n",
    "print(A.sum(axis=1)) # effectue la somme des lignes (somme sur les éléments des colonnes)\n",
    "print(A.cumsum(axis=0)) # effectue la somme cumulée\n",
    " \n",
    "print(A.prod()) # effectue le produit\n",
    "print(A.cumprod()) # effectue le produit cumulé\n",
    " \n",
    "print(A.min()) # trouve le minimum du tableau\n",
    "print(A.max()) # trouve le maximum du tableau\n",
    " \n",
    "print(A.mean()) # calcule la moyenne\n",
    "print(A.std()) # calcule l'ecart type,\n",
    "print(A.var()) # calcule la variance"
   ]
  },
  {
   "cell_type": "markdown",
   "metadata": {
    "colab_type": "text",
    "id": "f2YyhT1a10_D"
   },
   "source": [
    "Une méthode tres importante : la méthode **argsort()**"
   ]
  },
  {
   "cell_type": "code",
   "execution_count": 19,
   "metadata": {
    "colab": {
     "base_uri": "https://localhost:8080/",
     "height": 102
    },
    "colab_type": "code",
    "id": "B4VpaKBC1gP5",
    "outputId": "ece0dc47-6e25-4467-8489-2853d84246ee"
   },
   "outputs": [
    {
     "name": "stdout",
     "output_type": "stream",
     "text": [
      "[[4 2 6 2 4]\n",
      " [7 7 4 0 1]\n",
      " [6 6 6 3 3]\n",
      " [2 0 7 7 3]\n",
      " [5 7 4 9 7]]\n"
     ]
    }
   ],
   "source": [
    "A = np.random.randint(0, 10, [5, 5]) # tableau aléatoire\n",
    "print(A)"
   ]
  },
  {
   "cell_type": "code",
   "execution_count": 20,
   "metadata": {
    "colab": {
     "base_uri": "https://localhost:8080/",
     "height": 102
    },
    "colab_type": "code",
    "id": "2QQRptNH2CoJ",
    "outputId": "ca55206b-fdf7-412e-af1a-ffb6ae9658e2"
   },
   "outputs": [
    {
     "name": "stdout",
     "output_type": "stream",
     "text": [
      "[[1 3 0 4 2]\n",
      " [3 4 2 0 1]\n",
      " [3 4 0 1 2]\n",
      " [1 0 4 2 3]\n",
      " [2 0 1 4 3]]\n"
     ]
    }
   ],
   "source": [
    "print(A.argsort()) # retourne les index pour trier chaque ligne du tableau "
   ]
  },
  {
   "cell_type": "code",
   "execution_count": 21,
   "metadata": {
    "colab": {
     "base_uri": "https://localhost:8080/",
     "height": 34
    },
    "colab_type": "code",
    "id": "Th0JUW9F1z4O",
    "outputId": "789633ef-0cef-4a83-dbe1-12662c1f4165"
   },
   "outputs": [
    {
     "name": "stdout",
     "output_type": "stream",
     "text": [
      "[3 0 4 2 1]\n"
     ]
    }
   ],
   "source": [
    "print(A[:,0].argsort()) # retourne les index pour trier la colonne 0 de A"
   ]
  },
  {
   "cell_type": "code",
   "execution_count": 22,
   "metadata": {
    "colab": {
     "base_uri": "https://localhost:8080/",
     "height": 102
    },
    "colab_type": "code",
    "id": "7pbSRQAm2GBW",
    "outputId": "2c9c6496-089f-4822-c509-6ff81ebd5b77"
   },
   "outputs": [
    {
     "data": {
      "text/plain": [
       "array([[2, 0, 7, 7, 3],\n",
       "       [4, 2, 6, 2, 4],\n",
       "       [5, 7, 4, 9, 7],\n",
       "       [6, 6, 6, 3, 3],\n",
       "       [7, 7, 4, 0, 1]])"
      ]
     },
     "execution_count": 22,
     "metadata": {
      "tags": []
     },
     "output_type": "execute_result"
    }
   ],
   "source": [
    "A = A[A[:,0].argsort(), :] # trie les colonnes du tableau selon la colonne 0.\n",
    "A"
   ]
  },
  {
   "cell_type": "markdown",
   "metadata": {
    "colab_type": "text",
    "id": "NNIcngt72OHO"
   },
   "source": [
    "## 2. Numpy Statistics\n",
    "Correlation de Pearson :"
   ]
  },
  {
   "cell_type": "code",
   "execution_count": 23,
   "metadata": {
    "colab": {
     "base_uri": "https://localhost:8080/",
     "height": 68
    },
    "colab_type": "code",
    "id": "6JKPrFu52Gcj",
    "outputId": "914d328d-2e39-4d6e-86a5-93f7868c5115"
   },
   "outputs": [
    {
     "name": "stdout",
     "output_type": "stream",
     "text": [
      "[[ 1.         -0.63427277  0.99937797]\n",
      " [-0.63427277  1.         -0.66114251]\n",
      " [ 0.99937797 -0.66114251  1.        ]]\n"
     ]
    }
   ],
   "source": [
    "B = np.random.randn(3, 3) # nombres aléatoires 3x3\n",
    " \n",
    "# retourne la matrice de corrélation de B\n",
    "print(np.corrcoef(B))"
   ]
  },
  {
   "cell_type": "code",
   "execution_count": 24,
   "metadata": {
    "colab": {
     "base_uri": "https://localhost:8080/",
     "height": 51
    },
    "colab_type": "code",
    "id": "gqrA5qDh2RpN",
    "outputId": "6c490485-2626-447d-91e4-a22e901c865c"
   },
   "outputs": [
    {
     "name": "stdout",
     "output_type": "stream",
     "text": [
      "[[1.         0.81847981]\n",
      " [0.81847981 1.        ]]\n"
     ]
    }
   ],
   "source": [
    "# retourne la matrice de corrélation entre les lignes 0 et 1 de B\n",
    "print(np.corrcoef(B[:,0], B[:, 1]))"
   ]
  },
  {
   "cell_type": "markdown",
   "metadata": {
    "colab_type": "text",
    "id": "WHndpMUN5dqP"
   },
   "source": [
    "np.unique() :"
   ]
  },
  {
   "cell_type": "code",
   "execution_count": 27,
   "metadata": {
    "colab": {
     "base_uri": "https://localhost:8080/",
     "height": 102
    },
    "colab_type": "code",
    "id": "DU4Gx07Q5gVs",
    "outputId": "93ce7095-3cff-429d-d31c-a25221459283"
   },
   "outputs": [
    {
     "data": {
      "text/plain": [
       "array([[5, 0, 3, 3, 7],\n",
       "       [9, 3, 5, 2, 4],\n",
       "       [7, 6, 8, 8, 1],\n",
       "       [6, 7, 7, 8, 1],\n",
       "       [5, 9, 8, 9, 4]])"
      ]
     },
     "execution_count": 27,
     "metadata": {
      "tags": []
     },
     "output_type": "execute_result"
    }
   ],
   "source": [
    "np.random.seed(0)\n",
    "A = np.random.randint(0, 10, [5,5])\n",
    "A"
   ]
  },
  {
   "cell_type": "code",
   "execution_count": 28,
   "metadata": {
    "colab": {
     "base_uri": "https://localhost:8080/",
     "height": 34
    },
    "colab_type": "code",
    "id": "GmkYmQUJ5qG8",
    "outputId": "81ffe749-55a1-434c-ec96-60fdf579f9ab"
   },
   "outputs": [
    {
     "data": {
      "text/plain": [
       "array([0, 1, 2, 3, 4, 5, 6, 7, 8, 9])"
      ]
     },
     "execution_count": 28,
     "metadata": {
      "tags": []
     },
     "output_type": "execute_result"
    }
   ],
   "source": [
    "np.unique(A)"
   ]
  },
  {
   "cell_type": "code",
   "execution_count": 31,
   "metadata": {
    "colab": {
     "base_uri": "https://localhost:8080/",
     "height": 187
    },
    "colab_type": "code",
    "id": "Ax4tl32b2YYJ",
    "outputId": "54fbaa2d-44d1-450e-e773-be9a30277235"
   },
   "outputs": [
    {
     "name": "stdout",
     "output_type": "stream",
     "text": [
      "valeur 0 apparait 1\n",
      "valeur 2 apparait 1\n",
      "valeur 1 apparait 2\n",
      "valeur 4 apparait 2\n",
      "valeur 6 apparait 2\n",
      "valeur 3 apparait 3\n",
      "valeur 5 apparait 3\n",
      "valeur 9 apparait 3\n",
      "valeur 7 apparait 4\n",
      "valeur 8 apparait 4\n"
     ]
    }
   ],
   "source": [
    "values, counts = np.unique(A, return_counts=True)\n",
    "\n",
    "for i, j in zip(values[counts.argsort()], counts[counts.argsort()]):\n",
    "    print(f'valeur {i} apparait {j}')"
   ]
  },
  {
   "cell_type": "markdown",
   "metadata": {
    "colab_type": "text",
    "id": "E9A4AEs96YLs"
   },
   "source": [
    "Calculs statistiques en présence de données manquates (NaN)"
   ]
  },
  {
   "cell_type": "code",
   "execution_count": 36,
   "metadata": {
    "colab": {
     "base_uri": "https://localhost:8080/",
     "height": 51
    },
    "colab_type": "code",
    "id": "AQGnQU3x6XrI",
    "outputId": "baec5b01-99fb-4f4c-df49-b1253a1f5a07"
   },
   "outputs": [
    {
     "name": "stdout",
     "output_type": "stream",
     "text": [
      "ratio NaN/zise: 0.04\n",
      "moyenne sans NaN: 0.1832816316588837\n"
     ]
    }
   ],
   "source": [
    "A = np.random.randn(5, 5)\n",
    "A[0, 2] = np.nan # insere un NaN dans la matrice A\n",
    " \n",
    "print('ratio NaN/zise:', (np.isnan(A).sum()/A.size)) # calcule la proportion de NaN dans A\n",
    " \n",
    "print('moyenne sans NaN:', np.nanmean(A)) # calcule la moyenne de A en ignorant les NaN"
   ]
  },
  {
   "cell_type": "markdown",
   "metadata": {
    "colab_type": "text",
    "id": "SqhHhU7E6PtE"
   },
   "source": [
    "## 3. Algebre Linéaire"
   ]
  },
  {
   "cell_type": "code",
   "execution_count": 38,
   "metadata": {
    "colab": {
     "base_uri": "https://localhost:8080/",
     "height": 68
    },
    "colab_type": "code",
    "id": "NDl2nFYr2ZAb",
    "outputId": "3ef70159-d729-4a17-b551-faabfeadd73d"
   },
   "outputs": [
    {
     "name": "stdout",
     "output_type": "stream",
     "text": [
      "[[1. 1.]\n",
      " [1. 1.]\n",
      " [1. 1.]]\n"
     ]
    }
   ],
   "source": [
    "A = np.ones((2,3))\n",
    "B = np.ones((3,3))\n",
    "\n",
    "print(A.T) # transposé de la matrice A (c'est un attribut de ndarray)"
   ]
  },
  {
   "cell_type": "code",
   "execution_count": 39,
   "metadata": {
    "colab": {
     "base_uri": "https://localhost:8080/",
     "height": 51
    },
    "colab_type": "code",
    "id": "mRiT3DCd6HGR",
    "outputId": "eac920ee-2bb9-4d35-f2f7-7344bdee52c1"
   },
   "outputs": [
    {
     "name": "stdout",
     "output_type": "stream",
     "text": [
      "[[3. 3. 3.]\n",
      " [3. 3. 3.]]\n"
     ]
    }
   ],
   "source": [
    "print(A.dot(B)) # produit matriciel A.B"
   ]
  },
  {
   "cell_type": "code",
   "execution_count": 45,
   "metadata": {
    "colab": {
     "base_uri": "https://localhost:8080/",
     "height": 102
    },
    "colab_type": "code",
    "id": "qGIj8xxX7GwO",
    "outputId": "a15c309c-5525-4e18-887c-68d6d2613d50"
   },
   "outputs": [
    {
     "name": "stdout",
     "output_type": "stream",
     "text": [
      "det= 61.00000000000001\n",
      "inv A:\n",
      " [[ 0.08196721  0.63934426 -0.60655738]\n",
      " [-0.13114754 -0.62295082  0.7704918 ]\n",
      " [ 0.21311475  0.26229508 -0.37704918]]\n"
     ]
    }
   ],
   "source": [
    "A = np.random.randint(0, 10, [3, 3])\n",
    " \n",
    "print('det=', np.linalg.det(A)) # calcule le determinant de A\n",
    "print('inv A:\\n', np.linalg.inv(A)) # calcul l'inverse de A"
   ]
  },
  {
   "cell_type": "code",
   "execution_count": 44,
   "metadata": {
    "colab": {
     "base_uri": "https://localhost:8080/",
     "height": 119
    },
    "colab_type": "code",
    "id": "d5EXW7GU7KbI",
    "outputId": "57c52695-99ee-42cc-af95-0bb144d0c798"
   },
   "outputs": [
    {
     "name": "stdout",
     "output_type": "stream",
     "text": [
      "valeur propre:\n",
      " [ 8.91371956 -0.86320273  1.94948316]\n",
      "vecteur propre:\n",
      " [[-0.27183844 -0.6838339   0.39494311]\n",
      " [-0.4097407  -0.15279739 -0.73291062]\n",
      " [-0.87075623  0.71345929  0.55395123]]\n"
     ]
    }
   ],
   "source": [
    "val, vec = np.linalg.eig(A)\n",
    "print('valeur propre:\\n', val) # valeur propre\n",
    "print('vecteur propre:\\n', vec) # vecteur propre"
   ]
  },
  {
   "cell_type": "markdown",
   "metadata": {
    "colab_type": "text",
    "id": "hROrpjBp7W5J"
   },
   "source": [
    "## 4. Exercice et Solution\n",
    "\n",
    "Standardisez la matrice suivante, c'est a dire effectuez le calcul suivant :\n",
    "$A = \\frac{A - mean(A_{colonne})}{std(A_{colonne})}$"
   ]
  },
  {
   "cell_type": "code",
   "execution_count": 46,
   "metadata": {
    "colab": {
     "base_uri": "https://localhost:8080/",
     "height": 187
    },
    "colab_type": "code",
    "id": "qPkMTrvq7LE_",
    "outputId": "4ad8c37d-1696-4bc1-c02d-1df97177c62a"
   },
   "outputs": [
    {
     "data": {
      "text/plain": [
       "array([[44, 47, 64, 67, 67],\n",
       "       [ 9, 83, 21, 36, 87],\n",
       "       [70, 88, 88, 12, 58],\n",
       "       [65, 39, 87, 46, 88],\n",
       "       [81, 37, 25, 77, 72],\n",
       "       [ 9, 20, 80, 69, 79],\n",
       "       [47, 64, 82, 99, 88],\n",
       "       [49, 29, 19, 19, 14],\n",
       "       [39, 32, 65,  9, 57],\n",
       "       [32, 31, 74, 23, 35]])"
      ]
     },
     "execution_count": 46,
     "metadata": {
      "tags": []
     },
     "output_type": "execute_result"
    }
   ],
   "source": [
    "np.random.seed(0)\n",
    "A = np.random.randint(0, 100, [10, 5])\n",
    "A"
   ]
  },
  {
   "cell_type": "code",
   "execution_count": 47,
   "metadata": {
    "colab": {
     "base_uri": "https://localhost:8080/",
     "height": 187
    },
    "colab_type": "code",
    "id": "JlrzHIuk8OF0",
    "outputId": "51a65093-7c60-462a-e794-6122d299ea9d"
   },
   "outputs": [
    {
     "data": {
      "text/plain": [
       "array([[-0.02206157,  0.        ,  0.13173823,  0.72539252,  0.10755798],\n",
       "       [-1.56637126,  1.61579632, -1.48676006, -0.33034307,  0.96802178],\n",
       "       [ 1.12513992,  1.84021247,  1.03508612, -1.14768676, -0.27965074],\n",
       "       [ 0.90452425, -0.35906585,  0.99744662,  0.0102168 ,  1.01104497],\n",
       "       [ 1.6104944 , -0.44883231, -1.33620208,  1.0659524 ,  0.32267393],\n",
       "       [-1.56637126, -1.21184724,  0.73397016,  0.7935045 ,  0.62383626],\n",
       "       [ 0.11030784,  0.76301493,  0.80924915,  1.81518411,  1.01104497],\n",
       "       [ 0.1985541 , -0.80789816, -1.56203905, -0.90929485, -2.17267111],\n",
       "       [-0.24267724, -0.67324847,  0.16937773, -1.24985473, -0.32267393],\n",
       "       [-0.55153918, -0.7181317 ,  0.50813319, -0.77307091, -1.26918412]])"
      ]
     },
     "execution_count": 47,
     "metadata": {
      "tags": []
     },
     "output_type": "execute_result"
    }
   ],
   "source": [
    "# SOLUTION\n",
    "D = (A - A.mean(axis=0)) / A.std(axis=0)\n",
    "D"
   ]
  },
  {
   "cell_type": "code",
   "execution_count": 49,
   "metadata": {
    "colab": {
     "base_uri": "https://localhost:8080/",
     "height": 68
    },
    "colab_type": "code",
    "id": "tHPZsh-V8TcK",
    "outputId": "8e087346-6e31-43f9-f356-66a3ce45ffc7"
   },
   "outputs": [
    {
     "name": "stdout",
     "output_type": "stream",
     "text": [
      "[-2.22044605e-17 -4.44089210e-17  0.00000000e+00 -1.22124533e-16\n",
      " -4.44089210e-17]\n",
      "[1. 1. 1. 1. 1.]\n"
     ]
    }
   ],
   "source": [
    "print(D.mean(axis=0)) # les moyennes sont toutes = 0\n",
    "print(D.std(axis=0)) # les std sont tous = 1 "
   ]
  },
  {
   "cell_type": "code",
   "execution_count": 0,
   "metadata": {
    "colab": {},
    "colab_type": "code",
    "id": "q0YF4PYo8Ylj"
   },
   "outputs": [],
   "source": []
  }
 ],
 "metadata": {
  "colab": {
   "authorship_tag": "ABX9TyO14Rb0gg3PL1KQURiAHPap",
   "collapsed_sections": [],
   "include_colab_link": true,
   "name": "Untitled9.ipynb",
   "provenance": []
  },
  "kernelspec": {
   "display_name": "Python 3",
   "name": "python3"
  }
 },
 "nbformat": 4,
 "nbformat_minor": 0
}