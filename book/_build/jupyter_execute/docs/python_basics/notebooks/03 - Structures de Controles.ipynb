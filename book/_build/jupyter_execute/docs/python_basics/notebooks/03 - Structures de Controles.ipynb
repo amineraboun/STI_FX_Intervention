{
 "cells": [
  {
   "cell_type": "markdown",
   "metadata": {
    "colab_type": "text",
    "id": "view-in-github"
   },
   "source": [
    "<a href=\"https://colab.research.google.com/github/MachineLearnia/Python-tutoriel/blob/master/03%20-%20Structures%20de%20Controles.ipynb\" target=\"_parent\"><img src=\"https://colab.research.google.com/assets/colab-badge.svg\" alt=\"Open In Colab\"/></a>"
   ]
  },
  {
   "cell_type": "markdown",
   "metadata": {
    "colab_type": "text",
    "id": "mc-EcvradiEm"
   },
   "source": [
    "# 3/30 : Structures de Controle\n",
    "Dans le monde de la programmation, il existe 3 principales **structures de controle** pour créer des algorithmes.\n",
    "- Les alternatives **If / Else**\n",
    "- Les boucles **For**\n",
    "- Les boucles **While**"
   ]
  },
  {
   "cell_type": "markdown",
   "metadata": {
    "colab_type": "text",
    "id": "GCRRr0YTdpRc"
   },
   "source": [
    "## 1. Alternatives If / Else :\n",
    "Cette structure permet de tester une séquence d'alternatives. Si une condition est respéctée, alors les instructions qui la suivent sont executée et la structure de controle est stopée, sinon la condition suivante est testée."
   ]
  },
  {
   "cell_type": "code",
   "execution_count": 0,
   "metadata": {
    "colab": {},
    "colab_type": "code",
    "id": "36oymtgkdebr"
   },
   "outputs": [],
   "source": [
    "def test_du_signe(valeur):\n",
    "  if valeur < 0:\n",
    "    print('négatif')\n",
    "  elif valeur == 0:\n",
    "    print('nul')\n",
    "  else:\n",
    "    print('positif')"
   ]
  },
  {
   "cell_type": "code",
   "execution_count": 6,
   "metadata": {
    "colab": {
     "base_uri": "https://localhost:8080/",
     "height": 34
    },
    "colab_type": "code",
    "id": "eCbpqCywfazE",
    "outputId": "5f69f649-4092-473e-ed5a-2f97203b2752"
   },
   "outputs": [
    {
     "name": "stdout",
     "output_type": "stream",
     "text": [
      "négatif\n"
     ]
    }
   ],
   "source": [
    "test_du_signe(-2)"
   ]
  },
  {
   "cell_type": "markdown",
   "metadata": {
    "colab_type": "text",
    "id": "CaHzgd9lfq5o"
   },
   "source": [
    "Note importante : Une condition est respectée si et seulement si elle correspond au résultat **booléen True**."
   ]
  },
  {
   "cell_type": "code",
   "execution_count": 7,
   "metadata": {
    "colab": {
     "base_uri": "https://localhost:8080/",
     "height": 51
    },
    "colab_type": "code",
    "id": "eT4ffeSrfeB2",
    "outputId": "80a81a89-0672-4812-a264-24e5014b059f"
   },
   "outputs": [
    {
     "name": "stdout",
     "output_type": "stream",
     "text": [
      "True\n",
      "négatif\n"
     ]
    }
   ],
   "source": [
    "valeur = -2\n",
    "print(valeur < 0) # le résultat de cette comparaison est True\n",
    "\n",
    "if valeur < 0:\n",
    "  print('négatif')"
   ]
  },
  {
   "cell_type": "markdown",
   "metadata": {
    "colab_type": "text",
    "id": "EPk6O53vhZkW"
   },
   "source": [
    "Cela permet de développer des algorithmes avec des mélanges d'opéations Logiques et d'opérations de comparaisons. Par exemple : *si il fait beau et qu'il faut chaud, alors j'irai me baigner*"
   ]
  },
  {
   "cell_type": "code",
   "execution_count": 10,
   "metadata": {
    "colab": {
     "base_uri": "https://localhost:8080/",
     "height": 34
    },
    "colab_type": "code",
    "id": "52NzMgaegVhP",
    "outputId": "e8996961-8d44-4da2-d7ae-45c8798dd543"
   },
   "outputs": [
    {
     "name": "stdout",
     "output_type": "stream",
     "text": [
      "x et y ne sont pas tous les 2 positifs\n"
     ]
    }
   ],
   "source": [
    "x = 3\n",
    "y = -1\n",
    "if (x>0) and (y>0):\n",
    "  print('x et y sont positifs')\n",
    "else:\n",
    "  print('x et y ne sont pas tous les 2 positifs')"
   ]
  },
  {
   "cell_type": "markdown",
   "metadata": {
    "colab_type": "text",
    "id": "X7ySgVEwhbFd"
   },
   "source": [
    "## 2. Boucle For\n",
    "Une boucle for permet de créer des algorithmes itératifs (qui effectuent une certaine tache plusieurs fois de suite). Pour ca, la boucle parcourt tous les éléments d'un objet dit **itérable**. Il peut s'agir d'une liste, d'un dictionnaire, d'un range, d'un tableau numpy, ou de bien d'autres objets..."
   ]
  },
  {
   "cell_type": "code",
   "execution_count": 13,
   "metadata": {
    "colab": {
     "base_uri": "https://localhost:8080/",
     "height": 187
    },
    "colab_type": "code",
    "id": "4O5B4LHbhMze",
    "outputId": "6c890d52-f5fe-4ed7-e674-314687a88d70"
   },
   "outputs": [
    {
     "name": "stdout",
     "output_type": "stream",
     "text": [
      "0\n",
      "1\n",
      "2\n",
      "3\n",
      "4\n",
      "5\n",
      "6\n",
      "7\n",
      "8\n",
      "9\n"
     ]
    }
   ],
   "source": [
    "# range(début, fin, pas) est une built-in fonction tres utile de python qui retourne un itérable.\n",
    "for i in range(0, 10):\n",
    "  print(i)"
   ]
  },
  {
   "cell_type": "code",
   "execution_count": 16,
   "metadata": {
    "colab": {
     "base_uri": "https://localhost:8080/",
     "height": 357
    },
    "colab_type": "code",
    "id": "aZSpQmXRjJGx",
    "outputId": "87cbbc20-302d-42b3-aa70-c2f8ef4e8ef9"
   },
   "outputs": [
    {
     "name": "stdout",
     "output_type": "stream",
     "text": [
      "-10\n",
      "négatif\n",
      "-8\n",
      "négatif\n",
      "-6\n",
      "négatif\n",
      "-4\n",
      "négatif\n",
      "-2\n",
      "négatif\n",
      "0\n",
      "nul\n",
      "2\n",
      "positif\n",
      "4\n",
      "positif\n",
      "6\n",
      "positif\n",
      "8\n",
      "positif\n"
     ]
    }
   ],
   "source": [
    "# on peut s'amuser a combiner cette boucle avec notre fonction de tout a l'heure.\n",
    "for i in range(-10, 10, 2):\n",
    "  print(i)\n",
    "  test_du_signe(i)"
   ]
  },
  {
   "cell_type": "markdown",
   "metadata": {
    "colab_type": "text",
    "id": "_saAMgPukHO-"
   },
   "source": [
    "## 3. Boucle While\n",
    "Une boucle While permet d'effectuer en boucle une action, tant que la condition d'execution est validée (tant que la condition est **True**)"
   ]
  },
  {
   "cell_type": "code",
   "execution_count": 17,
   "metadata": {
    "colab": {
     "base_uri": "https://localhost:8080/",
     "height": 187
    },
    "colab_type": "code",
    "id": "M8qYGgBkj3m9",
    "outputId": "cb4df7df-e53c-4a74-ed59-7a83a72f4540"
   },
   "outputs": [
    {
     "name": "stdout",
     "output_type": "stream",
     "text": [
      "0\n",
      "1\n",
      "2\n",
      "3\n",
      "4\n",
      "5\n",
      "6\n",
      "7\n",
      "8\n",
      "9\n"
     ]
    }
   ],
   "source": [
    "x = 0\n",
    "while x < 10:\n",
    "  print(x)\n",
    "  x += 1 # incrémente x de 1 (équivalent de x = x+1)"
   ]
  },
  {
   "cell_type": "markdown",
   "metadata": {
    "colab_type": "text",
    "id": "uky4XsM2k1WE"
   },
   "source": [
    "## 4. Exercice et Solution\n",
    "Implémentez la **suite de Fibonacci** [0, 1, 1, 2, 3, 5, 8, 13, 21, ...] qui part de 2 nombres a=0 et b=1, et qui calcule le nombre suivant en additionnant les 2 nombres précédents.\n",
    "\n",
    "Indices :\n",
    "- Pour cet exercice vous aurez besoin d'une bouce **While**\n",
    "- Vous pouvez imprimer cette suite jusqu'a atteindre un nombre **n** que vous aurez choisit\n",
    "- dans python il est possible de mettre a jour 2 variables simultannément sur la meme lignes : **a, b = b, a+b**"
   ]
  },
  {
   "cell_type": "code",
   "execution_count": 25,
   "metadata": {
    "colab": {
     "base_uri": "https://localhost:8080/",
     "height": 289
    },
    "colab_type": "code",
    "id": "O9D6U0bBktyC",
    "outputId": "917e9e6e-a9d7-4ab9-bd8f-42fd4061ad2c"
   },
   "outputs": [
    {
     "name": "stdout",
     "output_type": "stream",
     "text": [
      "1\n",
      "1\n",
      "2\n",
      "3\n",
      "5\n",
      "8\n",
      "13\n",
      "21\n",
      "34\n",
      "55\n",
      "89\n",
      "144\n",
      "233\n",
      "377\n",
      "610\n",
      "987\n"
     ]
    }
   ],
   "source": [
    "# Solution\n",
    "\n",
    "def fibonacci(n):\n",
    "    # retourne une liste contenant la suite de fibonacci jusqu'a n\n",
    "    a = 0\n",
    "    b = 1\n",
    "    while b < n:\n",
    "      a, b = b, a+b\n",
    "      print(a)\n",
    "\n",
    "fibonacci(1000)"
   ]
  },
  {
   "cell_type": "code",
   "execution_count": 0,
   "metadata": {
    "colab": {},
    "colab_type": "code",
    "id": "3wKUNitUntVE"
   },
   "outputs": [],
   "source": []
  }
 ],
 "metadata": {
  "colab": {
   "authorship_tag": "ABX9TyMj3VzLYETwJDJ7iMVVo3pw",
   "include_colab_link": true,
   "name": "Untitled3.ipynb",
   "provenance": []
  },
  "kernelspec": {
   "display_name": "Python 3",
   "name": "python3"
  }
 },
 "nbformat": 4,
 "nbformat_minor": 0
}