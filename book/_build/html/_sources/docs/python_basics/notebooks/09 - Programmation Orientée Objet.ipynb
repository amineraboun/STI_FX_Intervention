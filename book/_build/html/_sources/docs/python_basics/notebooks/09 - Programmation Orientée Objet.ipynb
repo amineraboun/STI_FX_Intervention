{
  "nbformat": 4,
  "nbformat_minor": 0,
  "metadata": {
    "colab": {
      "name": "Untitled6.ipynb",
      "provenance": [],
      "authorship_tag": "ABX9TyPKq7O2+lerh4dr/+l82UHd",
      "include_colab_link": true
    },
    "kernelspec": {
      "name": "python3",
      "display_name": "Python 3"
    }
  },
  "cells": [
    {
      "cell_type": "markdown",
      "metadata": {
        "id": "view-in-github",
        "colab_type": "text"
      },
      "source": [
        "<a href=\"https://colab.research.google.com/github/MachineLearnia/Python-tutoriel/blob/master/09%20-%20Programmation%20Orient%C3%A9e%20Objet.ipynb\" target=\"_parent\"><img src=\"https://colab.research.google.com/assets/colab-badge.svg\" alt=\"Open In Colab\"/></a>"
      ]
    },
    {
      "cell_type": "markdown",
      "metadata": {
        "id": "-nGb6MtRYWC8",
        "colab_type": "text"
      },
      "source": [
        "# 9/30 Programmation Orientée Objet avec Python\n",
        "\n",
        "La programmation orientée objet est un **paradigme**, c'est a dire une facon de procéder pour écrire des programmes clairs et simples. Le principe est de modéliser les éléments de notre programmes (comme les tableaux et les listes) comme étant des des **objets** caractérisés par des **attributs** et capables d'effectuer des **actions**. Ces objets sont construits a partir de **classes** qui contiennent leur plan de fabrication.\n",
        "\n",
        "Dans le langage Python, presque tout est construit pour etre un objet : les listes, les dictionnaires, les tableaux numpy, etc.\n",
        "Par exemple quand on écrit : ***list.append()***, on utilise en fait la méthode append() sur un objet liste.\n",
        "\n",
        "La documentation Python, Numpy, Pandas, Matplotlib, Sklearn, est donc en vaste majorité constituée de classes qu'il est important de savoir déchiffrer pour pouvoir apprendre soi-meme de nouvelles choses grace aux documentations.\n",
        "\n",
        "Voici donc comment créer simplement et efficacement des classes :"
      ]
    },
    {
      "cell_type": "code",
      "metadata": {
        "id": "pRyJ-iSwYUul",
        "colab_type": "code",
        "colab": {}
      },
      "source": [
        "class vehicule:\n",
        "  \"\"\"\n",
        "  Voici un exemple de classe \"vehicule\" qui contient le plan de conception\n",
        "  d'objets \"véhicules\"\n",
        "  \"\"\"\n",
        "\n",
        "  # Une classe commence par une fonction initialisation qui contient les différents attributs\n",
        "  def __init__(self, couleur='noire', vitesse=0, roues=4):\n",
        "    self.couleur = couleur\n",
        "    self.vitesse = vitesse\n",
        "    self.roues = roues\n",
        "    \n",
        "  # voici une méthode \"accelerer\" qui modifie un attribut de l'objet\n",
        "  def accelerer(self, vitesse):\n",
        "    self.vitesse += vitesse\n",
        "\n",
        "  # voici une autre méthode\n",
        "  def stop(self):\n",
        "    self.vitesse = 0\n",
        "\n",
        "  # voici une derniere méthode, tres souvent utilisée\n",
        "  def afficher(self):\n",
        "    print(f'couleur: {self.couleur}\\nroues: {self.roues}\\nvitesse: {self.vitesse}')\n",
        "\n"
      ],
      "execution_count": 0,
      "outputs": []
    },
    {
      "cell_type": "code",
      "metadata": {
        "id": "Ngx7Fh0FcdMG",
        "colab_type": "code",
        "colab": {}
      },
      "source": [
        "# création d'un objet de la classe voiture\n",
        "voiture_1 = vehicule(couleur='rouge')"
      ],
      "execution_count": 0,
      "outputs": []
    },
    {
      "cell_type": "code",
      "metadata": {
        "id": "PVclukHucn09",
        "colab_type": "code",
        "colab": {}
      },
      "source": [
        "voiture_1.accelerer(100)"
      ],
      "execution_count": 0,
      "outputs": []
    },
    {
      "cell_type": "code",
      "metadata": {
        "id": "2_P2lLkOctNS",
        "colab_type": "code",
        "colab": {
          "base_uri": "https://localhost:8080/",
          "height": 68
        },
        "outputId": "45b07770-fe02-47bd-92e1-5e7256cad533"
      },
      "source": [
        "voiture_1.afficher()"
      ],
      "execution_count": 47,
      "outputs": [
        {
          "output_type": "stream",
          "text": [
            "couleur:rouge\n",
            "roues:4\n",
            "vitesse:100\n"
          ],
          "name": "stdout"
        }
      ]
    },
    {
      "cell_type": "markdown",
      "metadata": {
        "id": "kUEyyKQudmcM",
        "colab_type": "text"
      },
      "source": [
        "## Créer des sous-classes"
      ]
    },
    {
      "cell_type": "code",
      "metadata": {
        "id": "YOF_0y2Hcu3Z",
        "colab_type": "code",
        "colab": {}
      },
      "source": [
        "class voiture_electrique(vehicule):\n",
        "  \"\"\"\n",
        "  La classe moto hérite des méthodes et des attributs de la classe véhicule\n",
        "  \"\"\"\n",
        "\n",
        "  def __init__(self, couleur='black', vitesse=0, roues=4, autonomie=100):\n",
        "    super().__init__(couleur, vitesse, roues) # super() permet d'utiliser la fonction de la classe \"parent\"\n",
        "    self.autonomie = autonomie\n",
        "\n",
        "  # Ré-écriture de certaines méthodes\n",
        "  def accelerer(self, vitesse):\n",
        "    super().accelerer(vitesse)\n",
        "    self.autonomie -= 0.1 *self.vitesse\n",
        "\n",
        "  def afficher(self):\n",
        "    super().afficher()\n",
        "    print(f'autonomie: {self.autonomie}')"
      ],
      "execution_count": 0,
      "outputs": []
    },
    {
      "cell_type": "code",
      "metadata": {
        "id": "-g8oJHE4gP9r",
        "colab_type": "code",
        "colab": {}
      },
      "source": [
        "voiture_2 = voiture_electrique()"
      ],
      "execution_count": 0,
      "outputs": []
    },
    {
      "cell_type": "code",
      "metadata": {
        "id": "Mu4BiQXWgSDx",
        "colab_type": "code",
        "colab": {
          "base_uri": "https://localhost:8080/",
          "height": 153
        },
        "outputId": "7d702b86-eafe-49ac-aa35-99e49545a0c6"
      },
      "source": [
        "voiture_2.afficher()\n",
        "\n",
        "voiture_2.accelerer(10)\n",
        "\n",
        "voiture_2.afficher()"
      ],
      "execution_count": 54,
      "outputs": [
        {
          "output_type": "stream",
          "text": [
            "couleur:black\n",
            "roues:4\n",
            "vitesse:0\n",
            "autonomie: 100\n",
            "couleur:black\n",
            "roues:4\n",
            "vitesse:10\n",
            "autonomie: 99.0\n"
          ],
          "name": "stdout"
        }
      ]
    },
    {
      "cell_type": "code",
      "metadata": {
        "id": "ik8OQV5mhRLA",
        "colab_type": "code",
        "colab": {}
      },
      "source": [
        ""
      ],
      "execution_count": 0,
      "outputs": []
    }
  ]
}