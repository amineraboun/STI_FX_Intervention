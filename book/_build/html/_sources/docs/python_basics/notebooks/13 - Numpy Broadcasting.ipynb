{
  "nbformat": 4,
  "nbformat_minor": 0,
  "metadata": {
    "colab": {
      "name": "Untitled10.ipynb",
      "provenance": [],
      "authorship_tag": "ABX9TyMqarUZc4GHSKvrtaqbcTD+",
      "include_colab_link": true
    },
    "kernelspec": {
      "name": "python3",
      "display_name": "Python 3"
    }
  },
  "cells": [
    {
      "cell_type": "markdown",
      "metadata": {
        "id": "view-in-github",
        "colab_type": "text"
      },
      "source": [
        "<a href=\"https://colab.research.google.com/github/MachineLearnia/Python-Machine-Learning/blob/master/13%20-%20Numpy%20Broadcasting.ipynb\" target=\"_parent\"><img src=\"https://colab.research.google.com/assets/colab-badge.svg\" alt=\"Open In Colab\"/></a>"
      ]
    },
    {
      "cell_type": "markdown",
      "metadata": {
        "id": "J5pw0UgX9JnU",
        "colab_type": "text"
      },
      "source": [
        "# 13/30 Numpy et Broadcasting"
      ]
    },
    {
      "cell_type": "code",
      "metadata": {
        "id": "6wGW7Fwh9kic",
        "colab_type": "code",
        "colab": {}
      },
      "source": [
        "import numpy as np"
      ],
      "execution_count": 0,
      "outputs": []
    },
    {
      "cell_type": "code",
      "metadata": {
        "id": "95_zT3lb9OCl",
        "colab_type": "code",
        "colab": {
          "base_uri": "https://localhost:8080/",
          "height": 85
        },
        "outputId": "c50c45d6-f2d8-4cad-cde1-e3416ec4d01b"
      },
      "source": [
        "A = np.ones((2, 3))\n",
        "B = 3\n",
        "print(A+B) # résultat 1\n",
        " \n",
        "A = np.ones((2, 3))\n",
        "B = np.ones((2, 1)) # B a une colonne, elle sera étendu sur les trois colonnes de A\n",
        "print(A+B) # résultat 2\n",
        " \n",
        "A = np.ones((2, 3))\n",
        "B = np.ones((2, 2))\n"
      ],
      "execution_count": 3,
      "outputs": [
        {
          "output_type": "stream",
          "text": [
            "[[4. 4. 4.]\n",
            " [4. 4. 4.]]\n",
            "[[2. 2. 2.]\n",
            " [2. 2. 2.]]\n"
          ],
          "name": "stdout"
        }
      ]
    },
    {
      "cell_type": "code",
      "metadata": {
        "id": "ilEaxc-M9igj",
        "colab_type": "code",
        "colab": {}
      },
      "source": [
        ""
      ],
      "execution_count": 0,
      "outputs": []
    }
  ]
}