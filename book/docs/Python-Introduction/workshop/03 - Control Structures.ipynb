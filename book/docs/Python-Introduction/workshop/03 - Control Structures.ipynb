{
 "cells": [
  {
   "cell_type": "markdown",
   "metadata": {
    "colab_type": "text",
    "id": "view-in-github"
   },
   "source": [
    "<a href=\"https://colab.research.google.com/github/MachineLearnia/Python-tutoriel/blob/master/03%20-%20Structures%20de%20Controles.ipynb\" target=\"_parent\"><img src=\"https://colab.research.google.com/assets/colab-badge.svg\" alt=\"Open In Colab\"/></a>"
   ]
  },
  {
   "cell_type": "markdown",
   "metadata": {},
   "source": [
    "# 3 : Control Structures\n",
    "In the programming world, there are 3 main **control structures** to create algorithms.\n",
    "- The **If / Else** alternatives\n",
    "- The **For** loops\n",
    "- The **While** loops\n"
   ]
  },
  {
   "cell_type": "markdown",
   "metadata": {},
   "source": [
    "## 1. Alternatives If / Else :\n",
    "This structure allows to test a sequence of alternatives. If a condition is met, then the instructions that follow it are executed and the control structure is stopped, otherwise the next condition is tested."
   ]
  },
  {
   "cell_type": "code",
   "execution_count": 1,
   "metadata": {},
   "outputs": [
    {
     "name": "stdout",
     "output_type": "stream",
     "text": [
      "negative\n"
     ]
    }
   ],
   "source": [
    "def test_of_sign(value):\n",
    "  if value < 0:\n",
    "    print('negative')\n",
    "  elif value == 0:\n",
    "    print('null')\n",
    "  else:\n",
    "    print('positive')\n",
    "\n",
    "test_of_sign(-2)"
   ]
  },
  {
   "cell_type": "markdown",
   "metadata": {},
   "source": [
    "Important note : A condition is met if and only if it matches the result **bolean True**."
   ]
  },
  {
   "cell_type": "code",
   "execution_count": 2,
   "metadata": {},
   "outputs": [
    {
     "name": "stdout",
     "output_type": "stream",
     "text": [
      "True\n",
      "negative\n"
     ]
    }
   ],
   "source": [
    "value = -2\n",
    "print(value < 0) # the result of this comparison is True\n",
    "\n",
    "if value < 0:\n",
    "  print('negative')"
   ]
  },
  {
   "cell_type": "markdown",
   "metadata": {},
   "source": [
    "This allows you to develop algorithms with mixtures of Logic operations and comparison operations. For example : *if the weather is nice and warm, then I will go swimming*"
   ]
  },
  {
   "cell_type": "code",
   "execution_count": 3,
   "metadata": {},
   "outputs": [
    {
     "name": "stdout",
     "output_type": "stream",
     "text": [
      "x and y are not both positive\n"
     ]
    }
   ],
   "source": [
    "x = 3\n",
    "y = -1\n",
    "if (x>0) and (y>0):\n",
    "  print('x and y are positive')\n",
    "else:\n",
    "  print('x and y are not both positive')\n"
   ]
  },
  {
   "cell_type": "markdown",
   "metadata": {},
   "source": [
    "## 2. For loop\n",
    "A for loop allows you to create iterative algorithms (that perform a certain task several times in a row). For that, the loop goes through all the elements of a so-called **iterable** object. It can be a list, a dictionary, a range, a numpy array, or many other objects...\n"
   ]
  },
  {
   "cell_type": "code",
   "execution_count": 4,
   "metadata": {},
   "outputs": [
    {
     "name": "stdout",
     "output_type": "stream",
     "text": [
      "0\n",
      "1\n",
      "2\n",
      "3\n",
      "4\n",
      "5\n",
      "6\n",
      "7\n",
      "8\n",
      "9\n"
     ]
    }
   ],
   "source": [
    "# range(start, end, step) is a very useful built-in function of python that returns an iterable.\n",
    "for i in range(0, 10):\n",
    "    print(i)\n"
   ]
  },
  {
   "cell_type": "code",
   "execution_count": 5,
   "metadata": {},
   "outputs": [
    {
     "name": "stdout",
     "output_type": "stream",
     "text": [
      "-10\n",
      "negative\n",
      "-8\n",
      "negative\n",
      "-6\n",
      "negative\n",
      "-4\n",
      "negative\n",
      "-2\n",
      "negative\n",
      "0\n",
      "null\n",
      "2\n",
      "positive\n",
      "4\n",
      "positive\n",
      "6\n",
      "positive\n",
      "8\n",
      "positive\n"
     ]
    }
   ],
   "source": [
    "# we can have fun combining this loop with our function from earlier.\n",
    "for i in range(-10, 10, 2):\n",
    "    print(i)\n",
    "    test_of_sign(i)\n"
   ]
  },
  {
   "cell_type": "markdown",
   "metadata": {},
   "source": [
    "## 3. While loop\n",
    "A While loop allows to perform an action in loop, as long as the execution condition is validated (as long as the condition is **True**)\n"
   ]
  },
  {
   "cell_type": "code",
   "execution_count": 6,
   "metadata": {},
   "outputs": [
    {
     "name": "stdout",
     "output_type": "stream",
     "text": [
      "0\n",
      "1\n",
      "2\n",
      "3\n",
      "4\n",
      "5\n",
      "6\n",
      "7\n",
      "8\n",
      "9\n"
     ]
    }
   ],
   "source": [
    "x = 0\n",
    "while x < 10:\n",
    "  print(x)\n",
    "  x += 1 # increments x by 1 (equivalent to x = x+1)\n"
   ]
  },
  {
   "cell_type": "markdown",
   "metadata": {},
   "source": [
    "## 4. exercise and solution\n",
    "Implement the **Fibonacci sequence** [0, 1, 1, 2, 3, 5, 8, 13, 21, ...] that starts from 2 numbers a=0 and b=1, and computes the next number by adding the previous 2 numbers.\n",
    "\n",
    "Hints:\n",
    "- For this exercise you will need a **While** ball\n",
    "- You can print this sequence until you reach a number **n** that you choose\n",
    "- in python it is possible to update 2 variables simultaneously on the same line: **a, b = b, a+b**\n"
   ]
  },
  {
   "cell_type": "markdown",
   "metadata": {},
   "source": [
    "### Solution"
   ]
  },
  {
   "cell_type": "code",
   "execution_count": 7,
   "metadata": {
    "collapsed": true,
    "jupyter": {
     "outputs_hidden": true,
     "source_hidden": true
    },
    "tags": [
     "hide_cell"
    ]
   },
   "outputs": [
    {
     "name": "stdout",
     "output_type": "stream",
     "text": [
      "1\n",
      "1\n",
      "2\n",
      "3\n",
      "5\n",
      "8\n",
      "13\n",
      "21\n",
      "34\n",
      "55\n",
      "89\n",
      "144\n",
      "233\n",
      "377\n",
      "610\n",
      "987\n"
     ]
    }
   ],
   "source": [
    "def fibonacci(n):\n",
    "    # return a list containing the fibonacci sequence until n\n",
    "    a = 0\n",
    "    b = 1\n",
    "    while b < n:\n",
    "      a, b = b, a+b\n",
    "      print(a)\n",
    "\n",
    "fibonacci(1000)"
   ]
  }
 ],
 "metadata": {
  "colab": {
   "authorship_tag": "ABX9TyMj3VzLYETwJDJ7iMVVo3pw",
   "include_colab_link": true,
   "name": "Untitled3.ipynb",
   "provenance": []
  },
  "kernelspec": {
   "display_name": "Python 3 (ipykernel)",
   "language": "python",
   "name": "python3"
  },
  "language_info": {
   "codemirror_mode": {
    "name": "ipython",
    "version": 3
   },
   "file_extension": ".py",
   "mimetype": "text/x-python",
   "name": "python",
   "nbconvert_exporter": "python",
   "pygments_lexer": "ipython3",
   "version": "3.9.7"
  }
 },
 "nbformat": 4,
 "nbformat_minor": 4
}
