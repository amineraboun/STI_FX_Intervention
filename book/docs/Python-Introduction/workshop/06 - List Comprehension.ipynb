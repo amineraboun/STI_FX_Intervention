{
  "nbformat": 4,
  "nbformat_minor": 0,
  "metadata": {
    "colab": {
      "name": "Untitled3.ipynb",
      "provenance": [],
      "authorship_tag": "ABX9TyO7juhPo5Ghi3/QHXMS+UvK",
      "include_colab_link": true
    },
    "kernelspec": {
      "name": "python3",
      "display_name": "Python 3"
    }
  },
  "cells": [
    {
      "cell_type": "markdown",
      "metadata": {
        "id": "view-in-github",
        "colab_type": "text"
      },
      "source": [
        "<a href=\"https://colab.research.google.com/github/MachineLearnia/Python-tutoriel/blob/master/06%20-%20List%20Comprehension.ipynb\" target=\"_parent\"><img src=\"https://colab.research.google.com/assets/colab-badge.svg\" alt=\"Open In Colab\"/></a>"
      ]
    },
    {
      "cell_type": "markdown",
      "metadata": {
        "id": "GhAiPHEG5IUO",
        "colab_type": "text"
      },
      "source": [
        "# 6/30 - List Comprehension\n",
        "Les listes comprehension sont une facon habile de créer des listes sur une seule ligne de code, ce qui rend le code beaucoup plus rapide (car python est un langage assez lent)\n",
        "\n",
        "Les deux code ci-dessous effectuent chacun la meme opération. On peut voir (grace a la commande %%time) que le temps d'execution avec liste comprehenion est bien inférieur au temps d'execution avec la méthode append() "
      ]
    },
    {
      "cell_type": "code",
      "metadata": {
        "id": "Lzgj8bJa3Z4E",
        "colab_type": "code",
        "colab": {
          "base_uri": "https://localhost:8080/",
          "height": 51
        },
        "outputId": "13281391-08be-4407-e169-7ecc21e8e80a"
      },
      "source": [
        "%%time\n",
        "liste = []\n",
        "for i in range(100000):\n",
        "  liste.append(i**2)"
      ],
      "execution_count": 5,
      "outputs": [
        {
          "output_type": "stream",
          "text": [
            "CPU times: user 38.2 ms, sys: 3.79 ms, total: 42 ms\n",
            "Wall time: 42 ms\n"
          ],
          "name": "stdout"
        }
      ]
    },
    {
      "cell_type": "code",
      "metadata": {
        "id": "CIvxRMVe6vsw",
        "colab_type": "code",
        "colab": {
          "base_uri": "https://localhost:8080/",
          "height": 51
        },
        "outputId": "ba0c4b1f-805a-45c7-f845-ceea90e48eda"
      },
      "source": [
        "%%time\n",
        "liste = [i**2 for i in range(100000)]"
      ],
      "execution_count": 6,
      "outputs": [
        {
          "output_type": "stream",
          "text": [
            "CPU times: user 28.7 ms, sys: 2.92 ms, total: 31.6 ms\n",
            "Wall time: 31.4 ms\n"
          ],
          "name": "stdout"
        }
      ]
    },
    {
      "cell_type": "markdown",
      "metadata": {
        "id": "fvZgGNE18t6Z",
        "colab_type": "text"
      },
      "source": [
        "On peut rajouter des conditions **if** dans les listes comprehension, par exemple :"
      ]
    },
    {
      "cell_type": "code",
      "metadata": {
        "id": "KeCjT4gz7Dgm",
        "colab_type": "code",
        "colab": {
          "base_uri": "https://localhost:8080/",
          "height": 34
        },
        "outputId": "71ef2147-1333-4a38-aedc-f9a5874f7e2b"
      },
      "source": [
        "liste = [i**2 for i in range(100000) if (i % 2) == 0] # calcule i**2 seulement pour les nombres pairs.\n",
        "\n",
        "print(liste[:10]) #affiche les 10 premiers éléments de la liste"
      ],
      "execution_count": 8,
      "outputs": [
        {
          "output_type": "stream",
          "text": [
            "[0, 4, 16, 36, 64, 100, 144, 196, 256, 324]\n"
          ],
          "name": "stdout"
        }
      ]
    },
    {
      "cell_type": "markdown",
      "metadata": {
        "id": "SfgTMW5g9nAK",
        "colab_type": "text"
      },
      "source": [
        "## Exercice et solution\n",
        "\n",
        "Le meme principe s'applique aux dictionnaires ! Essayez-donc de créer un dictionnaire qui contienne des clefs de 1 a 20, avec comme valeur le carré de chaque clef"
      ]
    },
    {
      "cell_type": "code",
      "metadata": {
        "id": "tFlMy14F9UDq",
        "colab_type": "code",
        "colab": {
          "base_uri": "https://localhost:8080/",
          "height": 34
        },
        "outputId": "ca4be634-5bfd-448a-c0ca-9b3fcd8f1b0a"
      },
      "source": [
        "# SOLUTION\n",
        "\n",
        "dictionnaire = {k : k**2 for k in range(1, 21)}\n",
        "\n",
        "print(dictionnaire)"
      ],
      "execution_count": 9,
      "outputs": [
        {
          "output_type": "stream",
          "text": [
            "{1: 1, 2: 4, 3: 9, 4: 16, 5: 25, 6: 36, 7: 49, 8: 64, 9: 81, 10: 100, 11: 121, 12: 144, 13: 169, 14: 196, 15: 225, 16: 256, 17: 289, 18: 324, 19: 361, 20: 400}\n"
          ],
          "name": "stdout"
        }
      ]
    },
    {
      "cell_type": "code",
      "metadata": {
        "id": "JCMbIAtO-EaP",
        "colab_type": "code",
        "colab": {}
      },
      "source": [
        ""
      ],
      "execution_count": 0,
      "outputs": []
    }
  ]
}