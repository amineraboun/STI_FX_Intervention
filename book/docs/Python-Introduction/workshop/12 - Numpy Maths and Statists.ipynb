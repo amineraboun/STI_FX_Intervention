{
 "cells": [
  {
   "cell_type": "markdown",
   "metadata": {
    "colab_type": "text",
    "id": "view-in-github"
   },
   "source": [
    "<a href=\"https://colab.research.google.com/github/MachineLearnia/Python-Machine-Learning/blob/master/12%20-%20Numpy%20Maths%20et%20Statistiques.ipynb\" target=\"_parent\"><img src=\"https://colab.research.google.com/assets/colab-badge.svg\" alt=\"Open In Colab\"/></a>"
   ]
  },
  {
   "cell_type": "markdown",
   "metadata": {
    "colab_type": "text",
    "id": "1CXrPX3b1Fqz"
   },
   "source": [
    "# 12: Numpy - Mathematics"
   ]
  },
  {
   "cell_type": "code",
   "execution_count": 1,
   "metadata": {
    "colab": {},
    "colab_type": "code",
    "id": "jnkYo8bz1e-P"
   },
   "outputs": [],
   "source": [
    "import numpy as np"
   ]
  },
  {
   "cell_type": "markdown",
   "metadata": {},
   "source": [
    "## 1. basic (most useful) methods of the ndarray class\n"
   ]
  },
  {
   "cell_type": "code",
   "execution_count": 2,
   "metadata": {},
   "outputs": [
    {
     "name": "stdout",
     "output_type": "stream",
     "text": [
      "21\n",
      "[5 7 9]\n",
      "[ 6 15]\n",
      "[[1 2 3]\n",
      " [5 7 9]]\n",
      "720\n",
      "[  1   2   6  24 120 720]\n",
      "1\n",
      "6\n",
      "3.5\n",
      "1.707825127659933\n",
      "2.9166666666666665\n"
     ]
    }
   ],
   "source": [
    "A = np.array([[1, 2, 3], [4, 5, 6]])\n",
    "\n",
    "print(A.sum()) # sum all elements of the array\n",
    "print(A.sum(axis=0)) # sum of the columns (sum over elements of the rows)\n",
    "print(A.sum(axis=1)) # sum the rows (sum over the column elements)\n",
    "print(A.cumsum(axis=0)) # performs the cumulative sum\n",
    " \n",
    "print(A.prod()) # performs the product\n",
    "print(A.cumprod()) # performs the cumulative product\n",
    " \n",
    "print(A.min()) # find the minimum of the array\n",
    "print(A.max()) # find the maximum of the array\n",
    " \n",
    "print(A.mean()) # calculate the average\n",
    "print(A.std()) # calculate the standard deviation,\n",
    "print(A.var()) # calculate the variance\n"
   ]
  },
  {
   "cell_type": "markdown",
   "metadata": {},
   "source": [
    "\n",
    "A very important method : the **argsort()** method\n"
   ]
  },
  {
   "cell_type": "code",
   "execution_count": 3,
   "metadata": {},
   "outputs": [
    {
     "name": "stdout",
     "output_type": "stream",
     "text": [
      "[[1 1 8 6 5]\n",
      " [0 9 2 9 5]\n",
      " [7 4 7 9 3]\n",
      " [8 9 0 6 0]\n",
      " [7 8 0 3 8]]\n"
     ]
    }
   ],
   "source": [
    "A = np.random.randint(0, 10, [5, 5]) # random array\n",
    "print(A)\n"
   ]
  },
  {
   "cell_type": "code",
   "execution_count": 4,
   "metadata": {},
   "outputs": [
    {
     "name": "stdout",
     "output_type": "stream",
     "text": [
      "[[0 1 4 3 2]\n",
      " [0 2 4 1 3]\n",
      " [4 1 0 2 3]\n",
      " [2 4 3 0 1]\n",
      " [2 3 0 1 4]]\n"
     ]
    }
   ],
   "source": [
    "print(A.argsort()) # return the indexes to sort each row of the array "
   ]
  },
  {
   "cell_type": "code",
   "execution_count": 5,
   "metadata": {},
   "outputs": [
    {
     "name": "stdout",
     "output_type": "stream",
     "text": [
      "[1 0 2 4 3]\n"
     ]
    }
   ],
   "source": [
    "print(A[:,0].argsort()) # return the indexes to sort the 0 column of A"
   ]
  },
  {
   "cell_type": "code",
   "execution_count": 6,
   "metadata": {},
   "outputs": [
    {
     "data": {
      "text/plain": [
       "array([[0, 9, 2, 9, 5],\n",
       "       [1, 1, 8, 6, 5],\n",
       "       [7, 4, 7, 9, 3],\n",
       "       [7, 8, 0, 3, 8],\n",
       "       [8, 9, 0, 6, 0]])"
      ]
     },
     "execution_count": 6,
     "metadata": {},
     "output_type": "execute_result"
    }
   ],
   "source": [
    "A = A[A[:,0].argsort(), :] # sorts the columns of the array according to column 0.\n",
    "A"
   ]
  },
  {
   "cell_type": "markdown",
   "metadata": {},
   "source": [
    "## 2. Numpy Statistics\n",
    "Pearson correlation :\n"
   ]
  },
  {
   "cell_type": "code",
   "execution_count": 7,
   "metadata": {},
   "outputs": [
    {
     "name": "stdout",
     "output_type": "stream",
     "text": [
      "[[ 1.         -0.97790106  0.05478707]\n",
      " [-0.97790106  1.          0.15517786]\n",
      " [ 0.05478707  0.15517786  1.        ]]\n"
     ]
    }
   ],
   "source": [
    "B = np.random.randn(3, 3) # random numbers 3x3\n",
    " \n",
    "# return the correlation matrix of B\n",
    "print(np.corrcoef(B))\n"
   ]
  },
  {
   "cell_type": "code",
   "execution_count": 8,
   "metadata": {},
   "outputs": [
    {
     "name": "stdout",
     "output_type": "stream",
     "text": [
      "[[1.         0.58412611]\n",
      " [0.58412611 1.        ]]\n"
     ]
    }
   ],
   "source": [
    "# return the correlation matrix between rows 0 and 1 of B\n",
    "print(np.corrcoef(B[:,0], B[:, 1]))\n"
   ]
  },
  {
   "cell_type": "markdown",
   "metadata": {},
   "source": [
    "np.unique() :"
   ]
  },
  {
   "cell_type": "code",
   "execution_count": 9,
   "metadata": {},
   "outputs": [
    {
     "data": {
      "text/plain": [
       "array([[5, 0, 3, 3, 7],\n",
       "       [9, 3, 5, 2, 4],\n",
       "       [7, 6, 8, 8, 1],\n",
       "       [6, 7, 7, 8, 1],\n",
       "       [5, 9, 8, 9, 4]])"
      ]
     },
     "execution_count": 9,
     "metadata": {},
     "output_type": "execute_result"
    }
   ],
   "source": [
    "np.random.seed(0)\n",
    "A = np.random.randint(0, 10, [5,5])\n",
    "A"
   ]
  },
  {
   "cell_type": "code",
   "execution_count": 10,
   "metadata": {},
   "outputs": [
    {
     "data": {
      "text/plain": [
       "array([0, 1, 2, 3, 4, 5, 6, 7, 8, 9])"
      ]
     },
     "execution_count": 10,
     "metadata": {},
     "output_type": "execute_result"
    }
   ],
   "source": [
    "np.unique(A)"
   ]
  },
  {
   "cell_type": "code",
   "execution_count": 12,
   "metadata": {},
   "outputs": [
    {
     "name": "stdout",
     "output_type": "stream",
     "text": [
      "value 0 appears 1\n",
      "value 2 appears 1\n",
      "value 1 appears 2\n",
      "value 4 appears 2\n",
      "value 6 appears 2\n",
      "value 3 appears 3\n",
      "value 5 appears 3\n",
      "value 9 appears 3\n",
      "value 7 appears 4\n",
      "value 8 appears 4\n"
     ]
    }
   ],
   "source": [
    "values, counts = np.unique(A, return_counts=True)\n",
    "\n",
    "for i, j in zip(values[counts.argsort()], counts[counts.argsort()]):\n",
    "    print(f'value {i} appears {j}')"
   ]
  },
  {
   "cell_type": "markdown",
   "metadata": {},
   "source": [
    "Statistical calculations in the presence of missing data (NaN)"
   ]
  },
  {
   "cell_type": "code",
   "execution_count": 13,
   "metadata": {},
   "outputs": [
    {
     "name": "stdout",
     "output_type": "stream",
     "text": [
      "ratio NaN/zise: 0.04\n",
      "average without NaN: 0.06036087829219453\n"
     ]
    }
   ],
   "source": [
    "A = np.random.randn(5, 5)\n",
    "A[0, 2] = np.nan # insert a NaN in the matrix A\n",
    " \n",
    "print('ratio NaN/zise:', (np.isnan(A).sum()/A.size)) # calculate the proportion of NaN in A\n",
    " \n",
    "print('average without NaN:', np.nanmean(A)) # computes the average of A ignoring the NaN"
   ]
  },
  {
   "cell_type": "markdown",
   "metadata": {},
   "source": [
    "## 3. Linear Algebra"
   ]
  },
  {
   "cell_type": "code",
   "execution_count": 14,
   "metadata": {},
   "outputs": [
    {
     "name": "stdout",
     "output_type": "stream",
     "text": [
      "[[1. 1.]\n",
      " [1. 1.]\n",
      " [1. 1.]]\n"
     ]
    }
   ],
   "source": [
    "A = np.ones((2,3))\n",
    "B = np.ones((3,3))\n",
    "\n",
    "print(A.T) # transpose of the matrix A (it is an attribute of ndarray)"
   ]
  },
  {
   "cell_type": "code",
   "execution_count": 15,
   "metadata": {},
   "outputs": [
    {
     "name": "stdout",
     "output_type": "stream",
     "text": [
      "[[3. 3. 3.]\n",
      " [3. 3. 3.]]\n"
     ]
    }
   ],
   "source": [
    "print(A.dot(B)) # matrix product A.B"
   ]
  },
  {
   "cell_type": "code",
   "execution_count": 16,
   "metadata": {},
   "outputs": [
    {
     "name": "stdout",
     "output_type": "stream",
     "text": [
      "det= 23.999999999999993\n",
      "inv A:\n",
      " [[-0.5         0.875      -0.25      ]\n",
      " [ 0.5        -1.125       0.75      ]\n",
      " [-0.          0.33333333 -0.33333333]]\n"
     ]
    }
   ],
   "source": [
    "A = np.random.randint(0, 10, [3, 3])\n",
    " \n",
    "print('det=', np.linalg.det(A)) # compute the determinant of A\n",
    "print('inv A:\\n', np.linalg.inv(A)) # calculate the inverse of A"
   ]
  },
  {
   "cell_type": "code",
   "execution_count": 17,
   "metadata": {},
   "outputs": [
    {
     "name": "stdout",
     "output_type": "stream",
     "text": [
      "eigenvalue:\n",
      " [13.58872344 -3.         -0.58872344]\n",
      "eigenvector:\n",
      " [[-6.70561268e-01 -8.32050294e-01  6.04408531e-01]\n",
      " [-5.73889829e-01  2.12013389e-16 -7.73940635e-01]\n",
      " [-4.70104297e-01  5.54700196e-01  1.88960901e-01]]\n"
     ]
    }
   ],
   "source": [
    "val, vec = np.linalg.eig(A)\n",
    "print('eigenvalue:\\n', val) # eigenvalue\n",
    "print('eigenvector:\\n', vec) # eigenvector"
   ]
  },
  {
   "cell_type": "markdown",
   "metadata": {},
   "source": [
    "## 4. exercise and solution\n",
    "\n",
    "Standardize the following matrix, i.e. perform the following calculation:\n",
    "$A = \\frac{A - mean(A_{column})}{std(A_{column})}$"
   ]
  },
  {
   "cell_type": "code",
   "execution_count": 18,
   "metadata": {},
   "outputs": [
    {
     "data": {
      "text/plain": [
       "array([[44, 47, 64, 67, 67],\n",
       "       [ 9, 83, 21, 36, 87],\n",
       "       [70, 88, 88, 12, 58],\n",
       "       [65, 39, 87, 46, 88],\n",
       "       [81, 37, 25, 77, 72],\n",
       "       [ 9, 20, 80, 69, 79],\n",
       "       [47, 64, 82, 99, 88],\n",
       "       [49, 29, 19, 19, 14],\n",
       "       [39, 32, 65,  9, 57],\n",
       "       [32, 31, 74, 23, 35]])"
      ]
     },
     "execution_count": 18,
     "metadata": {},
     "output_type": "execute_result"
    }
   ],
   "source": [
    "np.random.seed(0)\n",
    "A = np.random.randint(0, 100, [10, 5])\n",
    "A\n"
   ]
  },
  {
   "cell_type": "code",
   "execution_count": 19,
   "metadata": {
    "colab": {},
    "colab_type": "code",
    "id": "q0YF4PYo8Ylj",
    "tags": [
     "hide-cell"
    ]
   },
   "outputs": [
    {
     "name": "stdout",
     "output_type": "stream",
     "text": [
      "[-2.22044605e-17 -4.44089210e-17  0.00000000e+00 -1.22124533e-16\n",
      " -4.44089210e-17]\n",
      "[1. 1. 1. 1. 1.]\n"
     ]
    }
   ],
   "source": [
    "# SOLUTION\n",
    "D = (A - A.mean(axis=0)) / A.std(axis=0)\n",
    "D"
   ]
  },
  {
   "cell_type": "code",
   "execution_count": 20,
   "metadata": {
    "tags": [
     "hide-cell"
    ]
   },
   "outputs": [
    {
     "name": "stdout",
     "output_type": "stream",
     "text": [
      "[-2.22044605e-17 -4.44089210e-17  0.00000000e+00 -1.22124533e-16\n",
      " -4.44089210e-17]\n",
      "[1. 1. 1. 1. 1.]\n"
     ]
    }
   ],
   "source": [
    "print(D.mean(axis=0)) # the means are all = 0\n",
    "print(D.std(axis=0)) # std are all = 1 "
   ]
  }
 ],
 "metadata": {
  "colab": {
   "authorship_tag": "ABX9TyO14Rb0gg3PL1KQURiAHPap",
   "collapsed_sections": [],
   "include_colab_link": true,
   "name": "Untitled9.ipynb",
   "provenance": []
  },
  "kernelspec": {
   "display_name": "Python 3 (ipykernel)",
   "language": "python",
   "name": "python3"
  },
  "language_info": {
   "codemirror_mode": {
    "name": "ipython",
    "version": 3
   },
   "file_extension": ".py",
   "mimetype": "text/x-python",
   "name": "python",
   "nbconvert_exporter": "python",
   "pygments_lexer": "ipython3",
   "version": "3.9.7"
  }
 },
 "nbformat": 4,
 "nbformat_minor": 4
}
