{
 "cells": [
  {
   "cell_type": "markdown",
   "metadata": {
    "colab_type": "text",
    "id": "view-in-github"
   },
   "source": [
    "<a href=\"https://colab.research.google.com/github/MachineLearnia/Python-tutoriel/blob/master/08%20-%20Modules%20de%20Bases.ipynb\" target=\"_parent\"><img src=\"https://colab.research.google.com/assets/colab-badge.svg\" alt=\"Open In Colab\"/></a>"
   ]
  },
  {
   "cell_type": "markdown",
   "metadata": {},
   "source": [
    "# 8: Basic Python Modules\n",
    "Python contains a number of built-in modules, which offer many useful mathematical, statistical, random and bone functions. To import a module, proceed as follows:\n",
    "- **import module** (imports the whole module)\n",
    "- import module as md** (give a nickname to the module)\n",
    "- from module import function** (import a function from the module)"
   ]
  },
  {
   "cell_type": "code",
   "execution_count": 11,
   "metadata": {},
   "outputs": [],
   "source": [
    "import math\n",
    "import statistics\n",
    "import random\n",
    "import os\n",
    "import glob\n"
   ]
  },
  {
   "cell_type": "markdown",
   "metadata": {},
   "source": [
    "You can also create your own modules and import them into other projects. A module is in fact a simple .py file that contains functions and classes\n"
   ]
  },
  {
   "cell_type": "markdown",
   "metadata": {},
   "source": [
    "## 1. math and statistics modules\n",
    "The math and statistics modules are apparently very useful, but in data science, we will use their equivalents in the **NUMPY** package. It can nevertheless be interesting to see the basic functions.\n"
   ]
  },
  {
   "cell_type": "code",
   "execution_count": 13,
   "metadata": {},
   "outputs": [
    {
     "name": "stdout",
     "output_type": "stream",
     "text": [
      "3.141592653589793\n",
      "1.0\n"
     ]
    }
   ],
   "source": [
    "print(math.pi)\n",
    "print(math.cos(2*math.pi))\n"
   ]
  },
  {
   "cell_type": "code",
   "execution_count": 14,
   "metadata": {},
   "outputs": [
    {
     "name": "stdout",
     "output_type": "stream",
     "text": [
      "3.6\n",
      "4.3\n"
     ]
    }
   ],
   "source": [
    "list = [1, 4, 6, 2, 5]\n",
    "\n",
    "print(statistics.mean(list)) # average of the list\n",
    "print(statistics.variance(list)) # variance of the list\n"
   ]
  },
  {
   "cell_type": "markdown",
   "metadata": {},
   "source": [
    "## 2. Random module\n",
    "The random module is one of the most useful modules in Python. In data science, we will mostly use its **NUMPY** equivalent\n"
   ]
  },
  {
   "cell_type": "code",
   "execution_count": 15,
   "metadata": {},
   "outputs": [
    {
     "name": "stdout",
     "output_type": "stream",
     "text": [
      "2\n",
      "0.7579544029403025\n",
      "8\n"
     ]
    }
   ],
   "source": [
    "random.seed(0) # set the random generator to always produce the same result\n",
    "\n",
    "print(random.choice(list)) # choose an element at random from the list\n",
    "\n",
    "print(random.random()) # generate a random number between 0 and 1\n",
    "\n",
    "print(random.randint(5, 10)) # generate a random integer between 5 and 10\n"
   ]
  },
  {
   "cell_type": "code",
   "execution_count": 16,
   "metadata": {},
   "outputs": [
    {
     "data": {
      "text/plain": [
       "[5, 33, 65, 62, 51, 38, 61, 45, 74, 27]"
      ]
     },
     "execution_count": 16,
     "metadata": {},
     "output_type": "execute_result"
    }
   ],
   "source": [
    "random.sample(range(100), 10) # return a list of 10 random numbers between 0 and 100"
   ]
  },
  {
   "cell_type": "code",
   "execution_count": 17,
   "metadata": {},
   "outputs": [
    {
     "name": "stdout",
     "output_type": "stream",
     "text": [
      "start list [1, 4, 6, 2, 5]\n",
      "shuffle list [6, 1, 2, 4, 5]\n"
     ]
    }
   ],
   "source": [
    "print('start list', list)\n",
    "\n",
    "random.shuffle(list) #shuffle the elements of a list\n",
    "\n",
    "print('shuffle list', list)"
   ]
  },
  {
   "cell_type": "markdown",
   "metadata": {},
   "source": [
    "## 3. OS and Glob modules\n",
    "The OS and GLob modules are **essential** to perform operations on your hard disk, like opening a file located in a certain working directory.\n"
   ]
  },
  {
   "cell_type": "code",
   "execution_count": 18,
   "metadata": {},
   "outputs": [
    {
     "data": {
      "text/plain": [
       "'/home/ubuntu/Documents/Projects/STI_FX_Intervention/book/docs/Python-Introduction/workshop'"
      ]
     },
     "execution_count": 18,
     "metadata": {},
     "output_type": "execute_result"
    }
   ],
   "source": [
    "os.getcwd() # displays the current working directory"
   ]
  },
  {
   "cell_type": "code",
   "execution_count": 19,
   "metadata": {},
   "outputs": [
    {
     "name": "stdout",
     "output_type": "stream",
     "text": [
      "['19 - Seaborn.ipynb', '03 - Structures de Controles.ipynb', '07 - Built-in Functions.ipynb', '05 - Dictionnaires.ipynb', '10 - Numpy (les Bases).ipynb', 'fichier.txt', '13 - Numpy Broadcasting.ipynb', '18 - Pandas et Séries Temporelles.ipynb', '04 - Structures de données (Listes et Tuples).ipynb', '02 - Variables et Fonctions.ipynb', '06 - List Comprehension.ipynb', '17 - Pandas (les Bases).ipynb', '14 - Matplotlib (les Bases).ipynb', '11 - Numpy _ Indexing, Slicing, Boolean Indexing.ipynb', '16 - Scipy.ipynb', 'text.txt', '09 - Programmation Orientée Objet.ipynb', '12 - Numpy Maths et Statistiques.ipynb', '15 - Matplotlib Top Graphiques.ipynb', '08 - Modules de Bases.ipynb']\n"
     ]
    }
   ],
   "source": [
    "print(glob.glob('*')) # contents of the current working directory"
   ]
  }
 ],
 "metadata": {
  "colab": {
   "authorship_tag": "ABX9TyNMaWNa1nHIB7W1Gqz1eq5+",
   "include_colab_link": true,
   "name": "Untitled5.ipynb",
   "provenance": []
  },
  "kernelspec": {
   "display_name": "Python 3 (ipykernel)",
   "language": "python",
   "name": "python3"
  },
  "language_info": {
   "codemirror_mode": {
    "name": "ipython",
    "version": 3
   },
   "file_extension": ".py",
   "mimetype": "text/x-python",
   "name": "python",
   "nbconvert_exporter": "python",
   "pygments_lexer": "ipython3",
   "version": "3.9.7"
  }
 },
 "nbformat": 4,
 "nbformat_minor": 4
}
