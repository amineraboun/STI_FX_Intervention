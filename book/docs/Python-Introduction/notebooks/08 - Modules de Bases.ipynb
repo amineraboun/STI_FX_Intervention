{
  "nbformat": 4,
  "nbformat_minor": 0,
  "metadata": {
    "colab": {
      "name": "Untitled5.ipynb",
      "provenance": [],
      "authorship_tag": "ABX9TyNMaWNa1nHIB7W1Gqz1eq5+",
      "include_colab_link": true
    },
    "kernelspec": {
      "name": "python3",
      "display_name": "Python 3"
    }
  },
  "cells": [
    {
      "cell_type": "markdown",
      "metadata": {
        "id": "view-in-github",
        "colab_type": "text"
      },
      "source": [
        "<a href=\"https://colab.research.google.com/github/MachineLearnia/Python-tutoriel/blob/master/08%20-%20Modules%20de%20Bases.ipynb\" target=\"_parent\"><img src=\"https://colab.research.google.com/assets/colab-badge.svg\" alt=\"Open In Colab\"/></a>"
      ]
    },
    {
      "cell_type": "markdown",
      "metadata": {
        "id": "BUt_YJsDRLNS",
        "colab_type": "text"
      },
      "source": [
        "# 8/30 Modules de bases de Python\n",
        "Python contient un certain nombre de modules intégrés, qui offrent de nombreuses fonctions mathématiques, statistiques, aléatoires et os tres utiles. Pour importer un module, il faut procéder comme-ci dessous :\n",
        "- **import module** (importe tout le module)\n",
        "- **import module as md** (donne un surnom au module)\n",
        "- **from module import fonction** (importe une fonction du module)\n"
      ]
    },
    {
      "cell_type": "code",
      "metadata": {
        "id": "gmlP-nyNRksg",
        "colab_type": "code",
        "colab": {}
      },
      "source": [
        "import math\n",
        "import statistics\n",
        "import random\n",
        "import os\n",
        "import glob"
      ],
      "execution_count": 0,
      "outputs": []
    },
    {
      "cell_type": "markdown",
      "metadata": {
        "id": "rAZM-GAFTIBW",
        "colab_type": "text"
      },
      "source": [
        "Vous pouvez également créer vos propres modules et les importer dans d'autres projets. Un module n'est en fait qu'un simple fichier.py qui contient des fonctions et des classes\n"
      ]
    },
    {
      "cell_type": "markdown",
      "metadata": {
        "id": "1ETgM9qZRdw1",
        "colab_type": "text"
      },
      "source": [
        "## 1. Modules math et statistics\n",
        "les modules math et statistics sont en apparence tres utiles, mais en data science, nous utiliserons leurs équivalents dans le package **NUMPY**. Il peut néanmoins etre intéressant de voir les fonctions de bases.\n"
      ]
    },
    {
      "cell_type": "code",
      "metadata": {
        "id": "cGfVUkdVRE_y",
        "colab_type": "code",
        "colab": {
          "base_uri": "https://localhost:8080/",
          "height": 51
        },
        "outputId": "edddb1de-d91e-4615-ac5a-65ae846602b1"
      },
      "source": [
        "print(math.pi)\n",
        "print(math.cos(2*math.pi))"
      ],
      "execution_count": 4,
      "outputs": [
        {
          "output_type": "stream",
          "text": [
            "3.141592653589793\n",
            "1.0\n"
          ],
          "name": "stdout"
        }
      ]
    },
    {
      "cell_type": "code",
      "metadata": {
        "id": "XwFZrMVdTQyJ",
        "colab_type": "code",
        "colab": {
          "base_uri": "https://localhost:8080/",
          "height": 51
        },
        "outputId": "992c6517-76de-4240-a043-1a3a199bcfd4"
      },
      "source": [
        "liste = [1, 4, 6, 2, 5]\n",
        "\n",
        "print(statistics.mean(liste)) # moyenne de la liste\n",
        "print(statistics.variance(liste)) # variance de la liste"
      ],
      "execution_count": 5,
      "outputs": [
        {
          "output_type": "stream",
          "text": [
            "3.6\n",
            "4.3\n"
          ],
          "name": "stdout"
        }
      ]
    },
    {
      "cell_type": "markdown",
      "metadata": {
        "id": "AKGXkU5ZTvz8",
        "colab_type": "text"
      },
      "source": [
        "## 2. Module Random\n",
        "Le module random est l'un des plus utile de Python. En datascience, nous utiliserons surtout sont équivalent **NUMPY**"
      ]
    },
    {
      "cell_type": "code",
      "metadata": {
        "id": "a2I21oZkTuHB",
        "colab_type": "code",
        "colab": {
          "base_uri": "https://localhost:8080/",
          "height": 68
        },
        "outputId": "b086dd4c-5168-42db-804d-5e3c4fb2c154"
      },
      "source": [
        "random.seed(0) # fixe le générateur aléatoire pour produire toujours le meme résultat\n",
        "\n",
        "print(random.choice(liste)) # choisit un élément au hasard dans la liste\n",
        "\n",
        "print(random.random()) # génére un nombre aléatoire entre 0 et 1\n",
        "\n",
        "print(random.randint(5, 10)) # génére un nombre entier aléatoire entre 5 et 10"
      ],
      "execution_count": 10,
      "outputs": [
        {
          "output_type": "stream",
          "text": [
            "2\n",
            "0.7579544029403025\n",
            "8\n"
          ],
          "name": "stdout"
        }
      ]
    },
    {
      "cell_type": "code",
      "metadata": {
        "id": "5MhdVoC3T-XV",
        "colab_type": "code",
        "colab": {
          "base_uri": "https://localhost:8080/",
          "height": 34
        },
        "outputId": "01a1c3d3-120d-429a-e2d1-1f05347f7b34"
      },
      "source": [
        "random.sample(range(100), 10) # retourne une liste de 10 nombres aléatoires entre 0 et 100"
      ],
      "execution_count": 13,
      "outputs": [
        {
          "output_type": "execute_result",
          "data": {
            "text/plain": [
              "[64, 17, 36, 96, 12, 79, 32, 68, 90, 77]"
            ]
          },
          "metadata": {
            "tags": []
          },
          "execution_count": 13
        }
      ]
    },
    {
      "cell_type": "code",
      "metadata": {
        "id": "cBrlkD-vU8tt",
        "colab_type": "code",
        "colab": {
          "base_uri": "https://localhost:8080/",
          "height": 51
        },
        "outputId": "4af02fe1-a09f-4e50-f198-c6d28c26cf13"
      },
      "source": [
        "print('liste de départ', liste)\n",
        "\n",
        "random.shuffle(liste) #mélange les éléments d'une liste\n",
        "\n",
        "print('liste mélangée', liste)"
      ],
      "execution_count": 17,
      "outputs": [
        {
          "output_type": "stream",
          "text": [
            "liste de départ [1, 2, 5, 6, 4]\n",
            "liste mélangée [1, 5, 2, 6, 4]\n"
          ],
          "name": "stdout"
        }
      ]
    },
    {
      "cell_type": "markdown",
      "metadata": {
        "id": "5Xq4Z9LhVbrw",
        "colab_type": "text"
      },
      "source": [
        "## 3. Modules OS et Glob\n",
        "Les modules OS et GLob sont **essentiels** pour effectuer des opérations sur votre disque dur, comme ouvrir un fichier situé dans un certain répertoire de travail.\n"
      ]
    },
    {
      "cell_type": "code",
      "metadata": {
        "id": "4Ss3-GnoVNmq",
        "colab_type": "code",
        "colab": {
          "base_uri": "https://localhost:8080/",
          "height": 34
        },
        "outputId": "ac19dc88-d04d-41a3-e7aa-ba085b465e26"
      },
      "source": [
        "os.getcwd() # affiche le répertoire de travail actuel"
      ],
      "execution_count": 19,
      "outputs": [
        {
          "output_type": "execute_result",
          "data": {
            "text/plain": [
              "'/content'"
            ]
          },
          "metadata": {
            "tags": []
          },
          "execution_count": 19
        }
      ]
    },
    {
      "cell_type": "code",
      "metadata": {
        "id": "GYg0__LiViYP",
        "colab_type": "code",
        "colab": {
          "base_uri": "https://localhost:8080/",
          "height": 34
        },
        "outputId": "14b6e24a-1765-410d-e636-15184872ebbd"
      },
      "source": [
        "print(glob.glob('*')) # contenu du repertoire de travail actuel"
      ],
      "execution_count": 22,
      "outputs": [
        {
          "output_type": "stream",
          "text": [
            "['sample_data']\n"
          ],
          "name": "stdout"
        }
      ]
    },
    {
      "cell_type": "code",
      "metadata": {
        "id": "gZDOyrbcWC8J",
        "colab_type": "code",
        "colab": {}
      },
      "source": [
        ""
      ],
      "execution_count": 0,
      "outputs": []
    }
  ]
}