{
  "nbformat": 4,
  "nbformat_minor": 0,
  "metadata": {
    "colab": {
      "name": "Untitled2.ipynb",
      "provenance": [],
      "authorship_tag": "ABX9TyMFLkJWjpS73et8V2y/zKv/",
      "include_colab_link": true
    },
    "kernelspec": {
      "name": "python3",
      "display_name": "Python 3"
    }
  },
  "cells": [
    {
      "cell_type": "markdown",
      "metadata": {
        "id": "view-in-github",
        "colab_type": "text"
      },
      "source": [
        "<a href=\"https://colab.research.google.com/github/MachineLearnia/Python-tutoriel/blob/master/02%20-%20Variables%20et%20Fonctions.ipynb\" target=\"_parent\"><img src=\"https://colab.research.google.com/assets/colab-badge.svg\" alt=\"Open In Colab\"/></a>"
      ]
    },
    {
      "cell_type": "markdown",
      "metadata": {
        "id": "Mr4YM6YJTkIz",
        "colab_type": "text"
      },
      "source": [
        "# Les Bases de Python - Variables et Fonctions (2/30)"
      ]
    },
    {
      "cell_type": "markdown",
      "metadata": {
        "id": "kxKbJy3zUGqq",
        "colab_type": "text"
      },
      "source": [
        "## 1. Variables et Operations\n",
        "Il existe 4 grands types de variables\n",
        "- int (nombre entier)\n",
        "- float (nombre décimal)\n",
        "- string (chaine de characteres)\n",
        "- bool (booléen)"
      ]
    },
    {
      "cell_type": "code",
      "metadata": {
        "id": "sB5Lw22eThZs",
        "colab_type": "code",
        "colab": {}
      },
      "source": [
        "x = 3 # type int \n",
        "y = 2.5 # type float\n",
        "prenom = 'Pierre' # type string\n",
        "z = True # type Bool"
      ],
      "execution_count": 0,
      "outputs": []
    },
    {
      "cell_type": "code",
      "metadata": {
        "id": "gvy__Ni0VLDg",
        "colab_type": "code",
        "colab": {
          "base_uri": "https://localhost:8080/",
          "height": 119
        },
        "outputId": "108dc562-5cdf-493f-f804-572bb84cff36"
      },
      "source": [
        "# Opérations arithmétiques\n",
        "print('x + y =', x + y)\n",
        "print('x - y =', x - y)\n",
        "print('x / y =', x / y)\n",
        "print('x // y =', x // y) # division entiere (tres utile pour les tableaux Numpy)\n",
        "print('x * y =', x * y)\n",
        "print('x ^ y =', x ** y) # x puissance y"
      ],
      "execution_count": 12,
      "outputs": [
        {
          "output_type": "stream",
          "text": [
            "x + y = 5.5\n",
            "x - y = 0.5\n",
            "x / y = 1.2\n",
            "x // y = 1.0\n",
            "x * y = 7.5\n",
            "x ^ y = 15.588457268119896\n"
          ],
          "name": "stdout"
        }
      ]
    },
    {
      "cell_type": "code",
      "metadata": {
        "id": "osU_peQiV5QH",
        "colab_type": "code",
        "colab": {
          "base_uri": "https://localhost:8080/",
          "height": 85
        },
        "outputId": "b5e7fe5a-24da-4c26-e26d-fdb680e49f1d"
      },
      "source": [
        "# Opérations de comparaison\n",
        "print('égalité :', x == y)\n",
        "print('inégalité :', x != y)\n",
        "print('inférieur ou égal :', x <= y)\n",
        "print('supérieur ou égal :', x >= y)"
      ],
      "execution_count": 13,
      "outputs": [
        {
          "output_type": "stream",
          "text": [
            "égalité : False\n",
            "inégalité : True\n",
            "inférieur ou égal : False\n",
            "supérieur ou égal : True\n"
          ],
          "name": "stdout"
        }
      ]
    },
    {
      "cell_type": "code",
      "metadata": {
        "id": "1s4g7tZxWpm0",
        "colab_type": "code",
        "colab": {
          "base_uri": "https://localhost:8080/",
          "height": 68
        },
        "outputId": "a9487664-4832-4e20-db7f-801835d4f111"
      },
      "source": [
        "# Opérations Logiques\n",
        "print('ET :', False and True)\n",
        "print('OU :', False or True)\n",
        "print('OU exclusif :', False ^ True)"
      ],
      "execution_count": 14,
      "outputs": [
        {
          "output_type": "stream",
          "text": [
            "ET : False\n",
            "OU : True\n",
            "OU exclusif : True\n"
          ],
          "name": "stdout"
        }
      ]
    },
    {
      "cell_type": "markdown",
      "metadata": {
        "id": "z5QvguMPYVgQ",
        "colab_type": "text"
      },
      "source": [
        "Note : Les opérations de comparaison et de logique utilisées ensemble permettent de construire des structures algorithmiques de bases (if/esle, while, ...)"
      ]
    },
    {
      "cell_type": "markdown",
      "metadata": {
        "id": "pLJYfhleZRqo",
        "colab_type": "text"
      },
      "source": [
        "## 2. Fonctions\n",
        "Une fonction anonyme est une fonction créée avec **lambda**. Ce type de fonction est basique et est utile pour etre intégrée au milieu de structures de controles ou bien d'autres fonctions. On l'utilise rarement."
      ]
    },
    {
      "cell_type": "code",
      "metadata": {
        "id": "8nUYmJJhX7s7",
        "colab_type": "code",
        "colab": {
          "base_uri": "https://localhost:8080/",
          "height": 34
        },
        "outputId": "f675d3bc-6d69-43c2-92d9-a69b1c24182a"
      },
      "source": [
        "# Exemple d'une fonction f(x) = x^2\n",
        "f = lambda x : x**2\n",
        "\n",
        "print(f(3))"
      ],
      "execution_count": 17,
      "outputs": [
        {
          "output_type": "stream",
          "text": [
            "9\n"
          ],
          "name": "stdout"
        }
      ]
    },
    {
      "cell_type": "code",
      "metadata": {
        "id": "n15GdMX1ZdjW",
        "colab_type": "code",
        "colab": {
          "base_uri": "https://localhost:8080/",
          "height": 34
        },
        "outputId": "f36347e2-6c28-42e5-d416-9b3799b09fde"
      },
      "source": [
        "# Exemple d'une fonction g(x, y) = x^2 - y^2\n",
        "g = lambda x, y : x**2 - y**2\n",
        "\n",
        "print(g(4, 2))"
      ],
      "execution_count": 19,
      "outputs": [
        {
          "output_type": "stream",
          "text": [
            "12\n"
          ],
          "name": "stdout"
        }
      ]
    },
    {
      "cell_type": "markdown",
      "metadata": {
        "id": "YjgH-JfFajmb",
        "colab_type": "text"
      },
      "source": [
        "La meilleure facon de créer une fonction est d'utiliser la structure suivante : **def**"
      ]
    },
    {
      "cell_type": "code",
      "metadata": {
        "id": "kgDxdfuIadt1",
        "colab_type": "code",
        "colab": {
          "base_uri": "https://localhost:8080/",
          "height": 34
        },
        "outputId": "32a0469a-d856-4206-931c-b013ae387720"
      },
      "source": [
        "# une fonction a un nom, prend des entrées (arguments) et les transforme pour retourner un résultat\n",
        "\n",
        "def nom_de_la_fonction(argument_1, argument_2):\n",
        "   restultat = argument_1 + argument_2\n",
        "   return restultat\n",
        "\n",
        "nom_de_la_fonction(3, 2)"
      ],
      "execution_count": 21,
      "outputs": [
        {
          "output_type": "execute_result",
          "data": {
            "text/plain": [
              "5"
            ]
          },
          "metadata": {
            "tags": []
          },
          "execution_count": 21
        }
      ]
    },
    {
      "cell_type": "code",
      "metadata": {
        "id": "rB-yIhFxbUPa",
        "colab_type": "code",
        "colab": {
          "base_uri": "https://localhost:8080/",
          "height": 34
        },
        "outputId": "77716e9a-5364-4be9-dec0-c8c750ac0f46"
      },
      "source": [
        "# Exemple concret : fonction qui calcul l'energie potentielle d'un corps\n",
        "\n",
        "def e_potentielle(masse, hauteur, g=9.81):\n",
        "  energie = masse * hauteur * g \n",
        "  return energie\n",
        "\n",
        "# ici g a une valeur par défaut donc nous ne sommes pas obligé de lui donner une valeur\n",
        "e_potentielle(masse=10, hauteur=10)"
      ],
      "execution_count": 22,
      "outputs": [
        {
          "output_type": "execute_result",
          "data": {
            "text/plain": [
              "981.0"
            ]
          },
          "metadata": {
            "tags": []
          },
          "execution_count": 22
        }
      ]
    },
    {
      "cell_type": "markdown",
      "metadata": {
        "id": "32X3vNS3cbfE",
        "colab_type": "text"
      },
      "source": [
        "## 3. Exercice et Solution\n",
        "Modifiez la fonction e_potentielle définie plus haut pour retourner une valeur indiquant si l'energie calculée est supérieure ou inférieur a une **energie_limite** passée en tant que 4eme argument"
      ]
    },
    {
      "cell_type": "code",
      "metadata": {
        "id": "l3SvJ0k_cVUA",
        "colab_type": "code",
        "colab": {
          "base_uri": "https://localhost:8080/",
          "height": 34
        },
        "outputId": "e1a10282-d73d-434a-a04a-80a6698a67a5"
      },
      "source": [
        "# Solution :\n",
        "\n",
        "def e_potentielle(masse, hauteur, e_limite, g=9.81):\n",
        "  energie = masse * hauteur * g \n",
        "  return energie > e_limite\n",
        "\n",
        "\n",
        "e_potentielle(masse=10, hauteur=10, e_limite=800)"
      ],
      "execution_count": 23,
      "outputs": [
        {
          "output_type": "execute_result",
          "data": {
            "text/plain": [
              "True"
            ]
          },
          "metadata": {
            "tags": []
          },
          "execution_count": 23
        }
      ]
    },
    {
      "cell_type": "code",
      "metadata": {
        "id": "oS7eMl_GdFZO",
        "colab_type": "code",
        "colab": {}
      },
      "source": [
        ""
      ],
      "execution_count": 0,
      "outputs": []
    }
  ]
}