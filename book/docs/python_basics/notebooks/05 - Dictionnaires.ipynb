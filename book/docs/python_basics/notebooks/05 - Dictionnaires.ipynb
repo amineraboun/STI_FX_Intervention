{
  "nbformat": 4,
  "nbformat_minor": 0,
  "metadata": {
    "colab": {
      "name": "Untitled2.ipynb",
      "provenance": [],
      "authorship_tag": "ABX9TyNuaHloFlnajW67t9G5GL/M",
      "include_colab_link": true
    },
    "kernelspec": {
      "name": "python3",
      "display_name": "Python 3"
    }
  },
  "cells": [
    {
      "cell_type": "markdown",
      "metadata": {
        "id": "view-in-github",
        "colab_type": "text"
      },
      "source": [
        "<a href=\"https://colab.research.google.com/github/MachineLearnia/Python-tutoriel/blob/master/05%20-%20Dictionnaires.ipynb\" target=\"_parent\"><img src=\"https://colab.research.google.com/assets/colab-badge.svg\" alt=\"Open In Colab\"/></a>"
      ]
    },
    {
      "cell_type": "markdown",
      "metadata": {
        "id": "joYmh7TZyu-I",
        "colab_type": "text"
      },
      "source": [
        "# 5/30 - Dictionnaires\n",
        "Les dictionnaires sont des structures de controle **non-ordonnées**, c'est-a-dire que les valeurs qu'ils contiennent ne sont pas rangée selon un index, mais suivant une **clef unique**.\n",
        "\n",
        "Une utilisation parfaite des dictionnaires est pour regrouper ensemble des \"variables\" dans un meme conténaire. (ces variables ne sont pas de vraies variables, mais des **keys**).\n",
        "\n",
        "*On peut par exemple crée un dictionnaire inventaire qui regroupe plusieurs produits (les clefs) et leur quantités (les valeurs)*"
      ]
    },
    {
      "cell_type": "code",
      "metadata": {
        "id": "IxAbYNGyypdD",
        "colab_type": "code",
        "colab": {}
      },
      "source": [
        "inventaire = {'pommes': 100,\n",
        "              'bananes': 80,\n",
        "              'poires': 120}"
      ],
      "execution_count": 0,
      "outputs": []
    },
    {
      "cell_type": "code",
      "metadata": {
        "id": "KIMrwYSF0WOx",
        "colab_type": "code",
        "outputId": "c44e65a3-4efa-4d94-e0a3-c64872120894",
        "colab": {
          "base_uri": "https://localhost:8080/",
          "height": 34
        }
      },
      "source": [
        "inventaire.values()"
      ],
      "execution_count": 3,
      "outputs": [
        {
          "output_type": "execute_result",
          "data": {
            "text/plain": [
              "dict_values([100, 80, 120])"
            ]
          },
          "metadata": {
            "tags": []
          },
          "execution_count": 3
        }
      ]
    },
    {
      "cell_type": "code",
      "metadata": {
        "id": "kiVf5n2J0Yxa",
        "colab_type": "code",
        "outputId": "b829279b-d0cd-4df5-c4a1-57b1b5d1ea35",
        "colab": {
          "base_uri": "https://localhost:8080/",
          "height": 34
        }
      },
      "source": [
        "inventaire.keys()"
      ],
      "execution_count": 4,
      "outputs": [
        {
          "output_type": "execute_result",
          "data": {
            "text/plain": [
              "dict_keys(['pommes', 'bananes', 'poires'])"
            ]
          },
          "metadata": {
            "tags": []
          },
          "execution_count": 4
        }
      ]
    },
    {
      "cell_type": "code",
      "metadata": {
        "id": "buwMNYZ40agi",
        "colab_type": "code",
        "outputId": "fef58cfb-e270-45f8-9d85-386d36ca86cf",
        "colab": {
          "base_uri": "https://localhost:8080/",
          "height": 163
        }
      },
      "source": [
        "len(inventaire)"
      ],
      "execution_count": 1,
      "outputs": [
        {
          "output_type": "error",
          "ename": "NameError",
          "evalue": "ignored",
          "traceback": [
            "\u001b[0;31m---------------------------------------------------------------------------\u001b[0m",
            "\u001b[0;31mNameError\u001b[0m                                 Traceback (most recent call last)",
            "\u001b[0;32m<ipython-input-1-afacfa14e4ab>\u001b[0m in \u001b[0;36m<module>\u001b[0;34m()\u001b[0m\n\u001b[0;32m----> 1\u001b[0;31m \u001b[0mlen\u001b[0m\u001b[0;34m(\u001b[0m\u001b[0minventaire\u001b[0m\u001b[0;34m)\u001b[0m\u001b[0;34m\u001b[0m\u001b[0;34m\u001b[0m\u001b[0m\n\u001b[0m",
            "\u001b[0;31mNameError\u001b[0m: name 'inventaire' is not defined"
          ]
        }
      ]
    },
    {
      "cell_type": "markdown",
      "metadata": {
        "id": "P3tAq8GJ0idV",
        "colab_type": "text"
      },
      "source": [
        "Voici comment ajouter une association key/value dans notre dictionnaire (attention si la clef existe déja elle est remplacée)"
      ]
    },
    {
      "cell_type": "code",
      "metadata": {
        "id": "0cPXXWkY0eCZ",
        "colab_type": "code",
        "outputId": "da888bd9-4c15-499c-c171-306d2dafb9eb",
        "colab": {
          "base_uri": "https://localhost:8080/",
          "height": 34
        }
      },
      "source": [
        "inventaire['abricots'] = 30\n",
        "print(inventaire)"
      ],
      "execution_count": 5,
      "outputs": [
        {
          "output_type": "stream",
          "text": [
            "{'pommes': 100, 'bananes': 80, 'poires': 120, 'abricots': 30}\n"
          ],
          "name": "stdout"
        }
      ]
    },
    {
      "cell_type": "markdown",
      "metadata": {
        "id": "tCIkswDN1L9m",
        "colab_type": "text"
      },
      "source": [
        "Attention : si vous cherchez une clef qui n'existe pas dans un dictionnaire, python vous retourne une erreur. Pour éviter cela, vous pouvez utiliser la méthode **get()**"
      ]
    },
    {
      "cell_type": "code",
      "metadata": {
        "id": "8v_RHt9F1KGx",
        "colab_type": "code",
        "colab": {}
      },
      "source": [
        "inventaire.get('peches') # n'existe pas"
      ],
      "execution_count": 0,
      "outputs": []
    },
    {
      "cell_type": "code",
      "metadata": {
        "id": "IlZRIOPb1Zd_",
        "colab_type": "code",
        "outputId": "28332b9a-6ae8-4196-e464-117f74f0b2d7",
        "colab": {
          "base_uri": "https://localhost:8080/",
          "height": 34
        }
      },
      "source": [
        "inventaire.get('pommes') # pomme existe"
      ],
      "execution_count": 7,
      "outputs": [
        {
          "output_type": "execute_result",
          "data": {
            "text/plain": [
              "100"
            ]
          },
          "metadata": {
            "tags": []
          },
          "execution_count": 7
        }
      ]
    },
    {
      "cell_type": "markdown",
      "metadata": {
        "id": "OC8GzBfW1pBr",
        "colab_type": "text"
      },
      "source": [
        "la méthode **pop()** permet de retirer une clef d'un dictionnaire tout en retournant la valeur associée a la clef."
      ]
    },
    {
      "cell_type": "code",
      "metadata": {
        "id": "njAZZTkf1d7H",
        "colab_type": "code",
        "outputId": "b8f4a6a6-7e3f-4e3e-cb09-328ff4c24373",
        "colab": {
          "base_uri": "https://localhost:8080/",
          "height": 51
        }
      },
      "source": [
        "abricots = inventaire.pop(\"abricots\")\n",
        "print(inventaire) # ne contient plus de clef abricots\n",
        "print(abricots) # abricots contient la valeur du dictionnaire"
      ],
      "execution_count": 8,
      "outputs": [
        {
          "output_type": "stream",
          "text": [
            "{'pommes': 100, 'bananes': 80, 'poires': 120}\n",
            "30\n"
          ],
          "name": "stdout"
        }
      ]
    },
    {
      "cell_type": "markdown",
      "metadata": {
        "id": "giJvo0ON2nxR",
        "colab_type": "text"
      },
      "source": [
        "Pour utiliser une boucle for avec un dictionnaire, il est utile d'utiliser la méthode **items()** qui retourne a la fois les clefs et les valeurs"
      ]
    },
    {
      "cell_type": "code",
      "metadata": {
        "id": "pn0mt-wh1oj0",
        "colab_type": "code",
        "outputId": "69707cdc-8127-451e-c6ea-73942f0f1128",
        "colab": {
          "base_uri": "https://localhost:8080/",
          "height": 68
        }
      },
      "source": [
        "for key, value in inventaire.items():\n",
        "  print(key, value)"
      ],
      "execution_count": 9,
      "outputs": [
        {
          "output_type": "stream",
          "text": [
            "pommes 100\n",
            "bananes 80\n",
            "poires 120\n"
          ],
          "name": "stdout"
        }
      ]
    },
    {
      "cell_type": "markdown",
      "metadata": {
        "id": "qWrT3hUL3nbN",
        "colab_type": "text"
      },
      "source": [
        "## Exercice et Solution\n",
        "Implémentez une fonction *trier(classeur, valeur)* qui place une valeur dans un dictionnaire en fonction de son signe"
      ]
    },
    {
      "cell_type": "code",
      "metadata": {
        "id": "lvFl1n8Z22Pq",
        "colab_type": "code",
        "colab": {}
      },
      "source": [
        "classeur = {'négatifs':[],\n",
        "            'positifs':[]\n",
        "            }\n",
        "\n",
        "def trier(classeur, valeur):\n",
        "  return classeur"
      ],
      "execution_count": 0,
      "outputs": []
    },
    {
      "cell_type": "code",
      "metadata": {
        "id": "LAOsU1Ya4PKY",
        "colab_type": "code",
        "colab": {}
      },
      "source": [
        "# SOLUTION\n",
        "\n",
        "def trier(classeur, valeur):\n",
        "  if valeur >=0:\n",
        "    classeur['positifs'].append(valeur)\n",
        "  else:\n",
        "    classeur['négatifs'].append(valeur)\n",
        "  return classeur"
      ],
      "execution_count": 0,
      "outputs": []
    },
    {
      "cell_type": "code",
      "metadata": {
        "id": "IvLbAkZB4rTk",
        "colab_type": "code",
        "colab": {
          "base_uri": "https://localhost:8080/",
          "height": 34
        },
        "outputId": "7240704c-039f-4c65-daf0-187610f5a4f9"
      },
      "source": [
        "trier(classeur, 9)"
      ],
      "execution_count": 19,
      "outputs": [
        {
          "output_type": "execute_result",
          "data": {
            "text/plain": [
              "{'négatifs': [-2, -2, -4], 'positifs': [5, 9]}"
            ]
          },
          "metadata": {
            "tags": []
          },
          "execution_count": 19
        }
      ]
    },
    {
      "cell_type": "code",
      "metadata": {
        "id": "tpgKytJR4u0v",
        "colab_type": "code",
        "colab": {}
      },
      "source": [
        ""
      ],
      "execution_count": 0,
      "outputs": []
    }
  ]
}