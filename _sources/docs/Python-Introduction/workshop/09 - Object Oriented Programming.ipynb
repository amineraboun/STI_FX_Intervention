{
 "cells": [
  {
   "cell_type": "markdown",
   "metadata": {
    "colab_type": "text",
    "id": "view-in-github"
   },
   "source": [
    "<a href=\"https://colab.research.google.com/github/MachineLearnia/Python-tutoriel/blob/master/09%20-%20Programmation%20Orient%C3%A9e%20Objet.ipynb\" target=\"_parent\"><img src=\"https://colab.research.google.com/assets/colab-badge.svg\" alt=\"Open In Colab\"/></a>"
   ]
  },
  {
   "cell_type": "markdown",
   "metadata": {},
   "source": [
    "# 9: Object Oriented Programming with Python\n",
    "\n",
    "Object-oriented programming is a **paradigm**, i.e. a way to write clear and simple programs. The principle is to model the elements of our program (like arrays and lists) as **objects** characterized by **attributes** and able to perform **actions**. These objects are built from **classes** that contain their construction plan.\n",
    "\n",
    "In the Python language, almost everything is built to be an object: lists, dictionaries, numpy arrays, etc.\n",
    "For example when you write : ***list.append()***, we are in fact using the append() method on a list object.\n",
    "\n",
    "The Python, Numpy, Pandas, Matplotlib, Sklearn documentation is mostly made of classes that it is important to know how to decipher in order to learn new things thanks to the documentation.\n",
    "\n",
    "Here is how to create classes simply and efficiently:\n"
   ]
  },
  {
   "cell_type": "code",
   "execution_count": 3,
   "metadata": {},
   "outputs": [],
   "source": [
    "class vehicle:\n",
    "    \"\"\"\n",
    "    Here is an example of a \"vehicle\" class which contains the design plan\n",
    "    of \"vehicle\" objects\n",
    "    \"\"\"\n",
    "    # A class starts with an initialization function that contains the different attributes\n",
    "    def __init__(self, color='black', speed=0, wheels=4):\n",
    "        self.color = color\n",
    "        self.speed = speed\n",
    "        self.wheels = wheels\n",
    "\n",
    "    # here is a method \"accelerer\" which modifies an attribute of the object\n",
    "    def accelerate(self, speed):\n",
    "        self.speed += speed\n",
    "\n",
    "    # here is another method\n",
    "    def stop(self):\n",
    "        self.speed = 0\n",
    "\n",
    "    # here is a last method, very often used\n",
    "    def display(self):\n",
    "        print(f'color: {self.color}/wheels: {self.wheels}/speed: {self.speed}')"
   ]
  },
  {
   "cell_type": "code",
   "execution_count": 4,
   "metadata": {},
   "outputs": [],
   "source": [
    "# creation of an object of the car class\n",
    "car_1 = vehicle(color='red')"
   ]
  },
  {
   "cell_type": "code",
   "execution_count": 5,
   "metadata": {},
   "outputs": [],
   "source": [
    "car_1.accelerate(100)"
   ]
  },
  {
   "cell_type": "code",
   "execution_count": 6,
   "metadata": {},
   "outputs": [
    {
     "name": "stdout",
     "output_type": "stream",
     "text": [
      "color: red/wheels: 4/speed: 100\n"
     ]
    }
   ],
   "source": [
    "car_1.display()"
   ]
  },
  {
   "cell_type": "code",
   "execution_count": 10,
   "metadata": {},
   "outputs": [],
   "source": [
    "## Create subclasses\n",
    "\n",
    "class electric_car(vehicle):\n",
    "    \"\"\"\n",
    "    The motorcycle class inherits the methods and attributes of the vehicle class\n",
    "    \"\"\"\n",
    "    \n",
    "    def __init__(self, color='black', speed=0, wheels=4, autonomy=100):\n",
    "        super().__init__(color, speed, wheels) # super() allows to use the function of the \"parent\" class\n",
    "        self.autonomy = autonomy\n",
    "\n",
    "    # Re-writing of some methods\n",
    "    def accelerate(self, speed):\n",
    "        super().accelerate(speed)\n",
    "        self.autonomy -= 0.1 *self.speed\n",
    "\n",
    "    def display(self):\n",
    "        super().display()\n",
    "        print(f'autonomy: {self.autonomy}')\n"
   ]
  },
  {
   "cell_type": "code",
   "execution_count": 11,
   "metadata": {},
   "outputs": [],
   "source": [
    "car_2 = electric_car()"
   ]
  },
  {
   "cell_type": "code",
   "execution_count": 12,
   "metadata": {
    "colab": {},
    "colab_type": "code",
    "id": "ik8OQV5mhRLA"
   },
   "outputs": [
    {
     "name": "stdout",
     "output_type": "stream",
     "text": [
      "color: black/wheels: 4/speed: 0\n",
      "autonomy: 100\n",
      "color: black/wheels: 4/speed: 10\n",
      "autonomy: 99.0\n"
     ]
    }
   ],
   "source": [
    "car_2.display()\n",
    "\n",
    "car_2.accelerate(10)\n",
    "\n",
    "car_2.display()\n"
   ]
  }
 ],
 "metadata": {
  "colab": {
   "authorship_tag": "ABX9TyPKq7O2+lerh4dr/+l82UHd",
   "include_colab_link": true,
   "name": "Untitled6.ipynb",
   "provenance": []
  },
  "kernelspec": {
   "display_name": "Python 3 (ipykernel)",
   "language": "python",
   "name": "python3"
  },
  "language_info": {
   "codemirror_mode": {
    "name": "ipython",
    "version": 3
   },
   "file_extension": ".py",
   "mimetype": "text/x-python",
   "name": "python",
   "nbconvert_exporter": "python",
   "pygments_lexer": "ipython3",
   "version": "3.9.7"
  }
 },
 "nbformat": 4,
 "nbformat_minor": 4
}
