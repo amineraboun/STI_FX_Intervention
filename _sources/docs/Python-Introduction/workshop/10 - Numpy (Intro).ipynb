{
 "cells": [
  {
   "cell_type": "markdown",
   "metadata": {
    "colab_type": "text",
    "id": "view-in-github"
   },
   "source": [
    "<a href=\"https://colab.research.google.com/github/MachineLearnia/Python-Machine-Learning/blob/master/10%20-%20Numpy%20(les%20Bases).ipynb\" target=\"_parent\"><img src=\"https://colab.research.google.com/assets/colab-badge.svg\" alt=\"Open In Colab\"/></a>"
   ]
  },
  {
   "cell_type": "markdown",
   "metadata": {},
   "source": [
    "# 10: Numpy Tableau ndarray"
   ]
  },
  {
   "cell_type": "code",
   "execution_count": 2,
   "metadata": {},
   "outputs": [],
   "source": [
    "import numpy as np"
   ]
  },
  {
   "cell_type": "markdown",
   "metadata": {},
   "source": [
    "\n",
    "## 1. ndarray** generators\n",
    "- default generator : **ndarray()**\n",
    "- 1D generator : **np.linspace** and **np.arange()**\n",
    "- ND generator: **np.zeros()**, **np.ones()**, **np.random.randn()** (these are the most useful)\n"
   ]
  },
  {
   "cell_type": "code",
   "execution_count": 3,
   "metadata": {},
   "outputs": [],
   "source": [
    "A = np.array([1, 2, 3]) # default generator, which allows to convert lists (or other objects) into ndarray\n",
    "A = np.zeros((2, 3)) # array of 0 with dimensions 2x3\n",
    "B = np.ones((2, 3)) # array of 1 with dimensions 2x3\n",
    "C = np.random.randn(2, 3) # random array (normal distribution) with dimensions 2x3\n",
    "D = np.random.rand(2, 3) # random array (uniform distribution)\n"
   ]
  },
  {
   "cell_type": "code",
   "execution_count": 4,
   "metadata": {},
   "outputs": [],
   "source": [
    " E = np.random.randint(0, 10, [2, 3]) # array of random integers from 0 to 10 and of dimension 2x3"
   ]
  },
  {
   "cell_type": "code",
   "execution_count": 6,
   "metadata": {},
   "outputs": [
    {
     "name": "stderr",
     "output_type": "stream",
     "text": [
      "/tmp/ipykernel_3860723/3272918426.py:2: DeprecationWarning: `np.bool` is a deprecated alias for the builtin `bool`. To silence this warning, use `bool` by itself. Doing this will not modify any behavior and is safe. If you specifically wanted the numpy scalar type, use `np.bool_` here.\n",
      "Deprecated in NumPy 1.20; for more details and guidance: https://numpy.org/devdocs/release/1.20.0-notes.html#deprecations\n",
      "  B = np.eye(4, dtype=np.bool) # create an identity matrix and convert the elements into bool type.\n"
     ]
    }
   ],
   "source": [
    "A = np.ones((2, 3), dtype=np.float16) # define the type and the space to occupy on the memory\n",
    "B = np.eye(4, dtype=np.bool) # create an identity matrix and convert the elements into bool type."
   ]
  },
  {
   "cell_type": "code",
   "execution_count": 5,
   "metadata": {},
   "outputs": [],
   "source": [
    "A = np.linspace(1,10, 10)\n",
    "B = np.arange(0, 10, 10)"
   ]
  },
  {
   "cell_type": "markdown",
   "metadata": {},
   "source": [
    "\n",
    "## 2. Important attributes\n",
    "- size\n",
    "- shape\n"
   ]
  },
  {
   "cell_type": "code",
   "execution_count": 7,
   "metadata": {},
   "outputs": [
    {
     "name": "stdout",
     "output_type": "stream",
     "text": [
      "6\n",
      "(2, 3)\n",
      "<class 'tuple'>\n",
      "2\n"
     ]
    }
   ],
   "source": [
    "A = np.zeros((2, 3)) # create an array of shape (2, 3)\n",
    " \n",
    "print(A.size) # the number of elements in the array A\n",
    "print(A.shape) # the dimensions of the array A (as a Tuple)\n",
    " \n",
    "print(type(A.shape)) # here is the proof that the shape is a tuple\n",
    " \n",
    "print(A.shape[0]) # the number of elements in the first dimension of A"
   ]
  },
  {
   "cell_type": "markdown",
   "metadata": {},
   "source": [
    "## 3. Important methods\n",
    "- **reshape()** : to resize an array\n",
    "- ravel()** : to flatten an array (make it one dimension only)\n",
    "- squeeze()** : when a dimension is equal to 1, this dimension disappears\n",
    "- **concatenate()** : assembles 2 arrays together along an axis (also exists in hstack and vstack)\n"
   ]
  },
  {
   "cell_type": "code",
   "execution_count": 8,
   "metadata": {},
   "outputs": [
    {
     "data": {
      "text/plain": [
       "array([[0., 0.],\n",
       "       [0., 0.],\n",
       "       [0., 0.]])"
      ]
     },
     "execution_count": 8,
     "metadata": {},
     "output_type": "execute_result"
    }
   ],
   "source": [
    "A = np.zeros((2, 3)) # create a shape array (2, 3)\n",
    " \n",
    "A = A.reshape((3, 2)) # resize the array A (3 rows, 2 columns)\n",
    "A.ravel() # flatten array A (one dimension)\n",
    "A.squeeze() # eliminate the \"1\" dimensions of A.\n"
   ]
  },
  {
   "cell_type": "code",
   "execution_count": 9,
   "metadata": {},
   "outputs": [
    {
     "data": {
      "text/plain": [
       "array([[0., 0., 0.],\n",
       "       [0., 0., 0.],\n",
       "       [1., 1., 1.],\n",
       "       [1., 1., 1.]])"
      ]
     },
     "execution_count": 9,
     "metadata": {},
     "output_type": "execute_result"
    }
   ],
   "source": [
    "A = np.zeros((2, 3)) # create a shape array (2, 3)\n",
    "B = np.ones((2, 3)) # create a shape array (2, 3)\n",
    "\n",
    "np.concatenate((A, B), axis=0) # axis 0 : equivalent of np.vstack((A, B))\n"
   ]
  },
  {
   "cell_type": "code",
   "execution_count": 10,
   "metadata": {},
   "outputs": [
    {
     "data": {
      "text/plain": [
       "array([[0., 0., 0., 1., 1., 1.],\n",
       "       [0., 0., 0., 1., 1., 1.]])"
      ]
     },
     "execution_count": 10,
     "metadata": {},
     "output_type": "execute_result"
    }
   ],
   "source": [
    "np.concatenate((A, B), axis=1) # axis 1 : equivalent of np.hstack((A, B))"
   ]
  },
  {
   "cell_type": "markdown",
   "metadata": {},
   "source": [
    "## 4. exercise and solutions"
   ]
  },
  {
   "cell_type": "code",
   "execution_count": 11,
   "metadata": {},
   "outputs": [],
   "source": [
    "def initialization(m, n):\n",
    "    # m : number of rows\n",
    "    # n : number of columns\n",
    "    # return a random matrix (m, n+1)\n",
    "    # with a bias column (filled with \"1\") on the right\n",
    "\n",
    "    return X"
   ]
  },
  {
   "cell_type": "code",
   "execution_count": 12,
   "metadata": {
    "tags": [
     "hide-cell"
    ]
   },
   "outputs": [
    {
     "data": {
      "text/plain": [
       "array([[ 1.34802861,  0.56557467,  0.07477671, -1.16431132,  1.        ],\n",
       "       [-0.65413789, -0.29018397,  1.47885623,  0.31252317,  1.        ],\n",
       "       [-2.82929408,  0.03365898, -0.31968468,  0.67855551,  1.        ]])"
      ]
     },
     "execution_count": 12,
     "metadata": {},
     "output_type": "execute_result"
    }
   ],
   "source": [
    "# SOLUTION\n",
    "def initialization(m, n):\n",
    "    # m : number of rows\n",
    "    # n : number of columns\n",
    "    # return a random matrix (m, n+1)\n",
    "    # with a bias column (filled with \"1\") on the right\n",
    "    X = np.random.randn(m, n)\n",
    "    X = np.concatenate((X, np.ones((X.shape[0], 1))), axis = 1)\n",
    "\n",
    "    return X\n",
    "\n",
    "initialization(3, 4)\n"
   ]
  }
 ],
 "metadata": {
  "colab": {
   "authorship_tag": "ABX9TyOBDpBixGknnBtNmIz7Zvhf",
   "include_colab_link": true,
   "name": "Untitled7.ipynb",
   "provenance": []
  },
  "kernelspec": {
   "display_name": "Python 3 (ipykernel)",
   "language": "python",
   "name": "python3"
  },
  "language_info": {
   "codemirror_mode": {
    "name": "ipython",
    "version": 3
   },
   "file_extension": ".py",
   "mimetype": "text/x-python",
   "name": "python",
   "nbconvert_exporter": "python",
   "pygments_lexer": "ipython3",
   "version": "3.9.7"
  }
 },
 "nbformat": 4,
 "nbformat_minor": 4
}
