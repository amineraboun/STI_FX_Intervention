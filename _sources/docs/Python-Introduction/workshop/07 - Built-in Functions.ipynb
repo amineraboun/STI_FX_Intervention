{
 "cells": [
  {
   "cell_type": "markdown",
   "metadata": {
    "colab_type": "text",
    "id": "view-in-github"
   },
   "source": [
    "<a href=\"https://colab.research.google.com/github/MachineLearnia/Python-tutoriel/blob/master/07%20-%20Built-in%20Functions.ipynb\" target=\"_parent\"><img src=\"https://colab.research.google.com/assets/colab-badge.svg\" alt=\"Open In Colab\"/></a>"
   ]
  },
  {
   "cell_type": "markdown",
   "metadata": {},
   "source": [
    "# 7: Built-in Functions\n",
    "Python contains a lot of useful built-in functions to know. This allows you to build code faster, without having to develop your own functions for the most basic tasks. In this notebook, I show you the most important ones:\n",
    "\n",
    "- Basic functions: abs(), round(), max(), min(), len(), sum(), any(), all()\n",
    "- Variable type conversions: int() str(), float(), type()\n",
    "- Data structure conversions: list(), tuple()\n",
    "- Binary conversions (less useful in machine learning): bin(), oct(), hex() \n",
    "- Input()** function\n",
    "- Function **format()** (f-string)\n",
    "- Function **open()**"
   ]
  },
  {
   "cell_type": "markdown",
   "metadata": {},
   "source": [
    "## 1. basic function\n",
    "Useful in all circumstances !\n"
   ]
  },
  {
   "cell_type": "code",
   "execution_count": 1,
   "metadata": {},
   "outputs": [
    {
     "name": "stdout",
     "output_type": "stream",
     "text": [
      "3.14\n",
      "-3\n"
     ]
    }
   ],
   "source": [
    "x = -3.14\n",
    "print(abs(x)) # absolute value\n",
    "print(round(x)) # rounding\n"
   ]
  },
  {
   "cell_type": "code",
   "execution_count": 2,
   "metadata": {},
   "outputs": [
    {
     "name": "stdout",
     "output_type": "stream",
     "text": [
      "-4\n",
      "3\n",
      "5\n",
      "-2\n"
     ]
    }
   ],
   "source": [
    "list = [-2, 3, 1, 0, -4]\n",
    "\n",
    "print(min(list)) # minimum\n",
    "print(max(list)) # maximum\n",
    "print(len(list)) # length\n",
    "print(sum(list)) # sum of elements\n"
   ]
  },
  {
   "cell_type": "code",
   "execution_count": 3,
   "metadata": {},
   "outputs": [
    {
     "name": "stdout",
     "output_type": "stream",
     "text": [
      "True\n",
      "False\n"
     ]
    }
   ],
   "source": [
    "list = [False, False, True]\n",
    "\n",
    "print(any(list)) # is there at least one True element?\n",
    "print(all(list)) # are all elements True ?\n"
   ]
  },
  {
   "cell_type": "markdown",
   "metadata": {},
   "source": [
    "## 2. Conversion function\n",
    "It can be very useful to convert a variable from one type to another (for example to make calculations). For this, we have the functions int(), str() and float().\n",
    "\n",
    "The **type()** function is very useful to inspect the types of our variables\n"
   ]
  },
  {
   "cell_type": "code",
   "execution_count": 4,
   "metadata": {},
   "outputs": [
    {
     "data": {
      "text/plain": [
       "str"
      ]
     },
     "execution_count": 4,
     "metadata": {},
     "output_type": "execute_result"
    }
   ],
   "source": [
    "age = '32'\n",
    "type(age)\n"
   ]
  },
  {
   "cell_type": "code",
   "execution_count": 5,
   "metadata": {},
   "outputs": [
    {
     "data": {
      "text/plain": [
       "int"
      ]
     },
     "execution_count": 5,
     "metadata": {},
     "output_type": "execute_result"
    }
   ],
   "source": [
    "age = int(age)\n",
    "type(age)\n"
   ]
  },
  {
   "cell_type": "code",
   "execution_count": 6,
   "metadata": {},
   "outputs": [
    {
     "data": {
      "text/plain": [
       "42"
      ]
     },
     "execution_count": 6,
     "metadata": {},
     "output_type": "execute_result"
    }
   ],
   "source": [
    "age + 10"
   ]
  },
  {
   "cell_type": "markdown",
   "metadata": {},
   "source": [
    "We can also convert lists into tuples, or Numpy arrays (which we will see later) into lists..."
   ]
  },
  {
   "cell_type": "code",
   "execution_count": 7,
   "metadata": {},
   "outputs": [],
   "source": [
    "list_1 = [1, 2, 3, 4]"
   ]
  },
  {
   "cell_type": "code",
   "execution_count": 8,
   "metadata": {},
   "outputs": [],
   "source": [
    "tuple_1 = tuple(list_1) # convert a list to a tuple"
   ]
  },
  {
   "cell_type": "code",
   "execution_count": 9,
   "metadata": {},
   "outputs": [
    {
     "data": {
      "text/plain": [
       "tuple"
      ]
     },
     "execution_count": 9,
     "metadata": {},
     "output_type": "execute_result"
    }
   ],
   "source": [
    "type(tuple_1)"
   ]
  },
  {
   "cell_type": "markdown",
   "metadata": {},
   "source": [
    "## 3. The **input()** function\n",
    "This function is very useful to ask the user of the program to enter a value in your program\n"
   ]
  },
  {
   "cell_type": "code",
   "execution_count": 10,
   "metadata": {},
   "outputs": [
    {
     "name": "stdin",
     "output_type": "stream",
     "text": [
      "how old are you ? 29\n"
     ]
    }
   ],
   "source": [
    "age = input('how old are you ?')"
   ]
  },
  {
   "cell_type": "code",
   "execution_count": 11,
   "metadata": {},
   "outputs": [
    {
     "data": {
      "text/plain": [
       "str"
      ]
     },
     "execution_count": 11,
     "metadata": {},
     "output_type": "execute_result"
    }
   ],
   "source": [
    "type(age) # age is a string type. you have to think about converting it if you want to make a calculation with\n"
   ]
  },
  {
   "cell_type": "markdown",
   "metadata": {},
   "source": [
    "## 4. The **format()** function\n",
    "this function allows you to insert the value of a variable in a string.\n",
    "\n",
    "A faster way to use this function is to use the **f-string**.\n"
   ]
  },
  {
   "cell_type": "code",
   "execution_count": 13,
   "metadata": {},
   "outputs": [
    {
     "name": "stdout",
     "output_type": "stream",
     "text": [
      "it's 25 degrees at Paris\n"
     ]
    }
   ],
   "source": [
    "x = 25\n",
    "city = 'Paris'\n",
    "\n",
    "message = \"it's {} degrees at {}\".format(x, city)\n",
    "print(message)\n"
   ]
  },
  {
   "cell_type": "code",
   "execution_count": 15,
   "metadata": {},
   "outputs": [
    {
     "name": "stdout",
     "output_type": "stream",
     "text": [
      "it is 25 degrees in Paris.\n"
     ]
    }
   ],
   "source": [
    "message = f\"it is {x} degrees in { city}.\"\n",
    "print(message)\n"
   ]
  },
  {
   "cell_type": "markdown",
   "metadata": {},
   "source": [
    "## 5. The **open()** function\n",
    "This function is one of the most useful in Python. It allows you to open any file on your computer and use it in Python. Different modes exist :\n",
    "- the 'r' mode : read a file from your computer\n",
    "- the 'w' mode : write a file on your computer\n",
    "- the 'a' mode : (append) add content to an existing file\n",
    "\n"
   ]
  },
  {
   "cell_type": "code",
   "execution_count": 16,
   "metadata": {},
   "outputs": [],
   "source": [
    "f = open('text.txt', 'w') # open a file object f\n",
    "f.write('hello')\n",
    "f.close() # we have to close our file once the work is done\n"
   ]
  },
  {
   "cell_type": "code",
   "execution_count": 17,
   "metadata": {},
   "outputs": [
    {
     "name": "stdout",
     "output_type": "stream",
     "text": [
      "hello\n"
     ]
    }
   ],
   "source": [
    "f = open('text.txt', 'r')\n",
    "print(f.read())\n",
    "f.close() \n"
   ]
  },
  {
   "cell_type": "markdown",
   "metadata": {},
   "source": [
    "In practice, it is more common to write **with open() as f** to avoid having to close the file once the work is done:"
   ]
  },
  {
   "cell_type": "code",
   "execution_count": 18,
   "metadata": {},
   "outputs": [
    {
     "name": "stdout",
     "output_type": "stream",
     "text": [
      "hello\n"
     ]
    }
   ],
   "source": [
    "with open('text.txt', 'r') as f:\n",
    "    print(f.read())\n"
   ]
  },
  {
   "cell_type": "markdown",
   "metadata": {},
   "source": [
    "## 6. Exercise and Solution\n",
    "The code below allows to create a file which contains the square numbers from 0 to 19.\n",
    "The exercise is to implement a code that allows to read this file and to write each line in a list.\n",
    "\n",
    "Note_1 : the function **read().splitlines()** will be very useful\n",
    "\n",
    "Note_2 : For a better result, try to use a comprehension list !"
   ]
  },
  {
   "cell_type": "code",
   "execution_count": 19,
   "metadata": {},
   "outputs": [],
   "source": [
    "# This piece of code allows to write the file \n",
    "with open('fichier.txt', 'w') as f:\n",
    "    for i in range(0, 20):\n",
    "        f.write(f'{i}: {i**2} \\n')\n",
    "    f.close()\n",
    "# Write here the code to read the file and save each line in a list."
   ]
  },
  {
   "cell_type": "code",
   "execution_count": 20,
   "metadata": {
    "tags": [
     "hide-cell"
    ]
   },
   "outputs": [
    {
     "data": {
      "text/plain": [
       "['0: 0 ',\n",
       " '1: 1 ',\n",
       " '2: 4 ',\n",
       " '3: 9 ',\n",
       " '4: 16 ',\n",
       " '5: 25 ',\n",
       " '6: 36 ',\n",
       " '7: 49 ',\n",
       " '8: 64 ',\n",
       " '9: 81 ',\n",
       " '10: 100 ',\n",
       " '11: 121 ',\n",
       " '12: 144 ',\n",
       " '13: 169 ',\n",
       " '14: 196 ',\n",
       " '15: 225 ',\n",
       " '16: 256 ',\n",
       " '17: 289 ',\n",
       " '18: 324 ',\n",
       " '19: 361 ']"
      ]
     },
     "execution_count": 20,
     "metadata": {},
     "output_type": "execute_result"
    }
   ],
   "source": [
    "# SOLUTION (not optimal)\n",
    "with open('fichier.txt','r') as f:\n",
    "    list = f.read().splitlines()\n",
    "list"
   ]
  },
  {
   "cell_type": "code",
   "execution_count": 21,
   "metadata": {
    "colab": {},
    "colab_type": "code",
    "id": "hpbjZcGaQQN1",
    "tags": [
     "hide-cell"
    ]
   },
   "outputs": [
    {
     "data": {
      "text/plain": [
       "['0: 0',\n",
       " '1: 1',\n",
       " '2: 4',\n",
       " '3: 9',\n",
       " '4: 16',\n",
       " '5: 25',\n",
       " '6: 36',\n",
       " '7: 49',\n",
       " '8: 64',\n",
       " '9: 81',\n",
       " '10: 100',\n",
       " '11: 121',\n",
       " '12: 144',\n",
       " '13: 169',\n",
       " '14: 196',\n",
       " '15: 225',\n",
       " '16: 256',\n",
       " '17: 289',\n",
       " '18: 324',\n",
       " '19: 361']"
      ]
     },
     "execution_count": 21,
     "metadata": {},
     "output_type": "execute_result"
    }
   ],
   "source": [
    "# SOLUTION (Improved)\n",
    "# A better way is to use a comprehension list!\n",
    "list = [row.strip() for row in open('fichier.txt','r')]\n",
    "list"
   ]
  },
  {
   "cell_type": "code",
   "execution_count": null,
   "metadata": {},
   "outputs": [],
   "source": []
  }
 ],
 "metadata": {
  "colab": {
   "authorship_tag": "ABX9TyMvLW57+7Hc/4mujStMvV7z",
   "collapsed_sections": [],
   "include_colab_link": true,
   "name": "Untitled4.ipynb",
   "provenance": []
  },
  "kernelspec": {
   "display_name": "Python 3 (ipykernel)",
   "language": "python",
   "name": "python3"
  },
  "language_info": {
   "codemirror_mode": {
    "name": "ipython",
    "version": 3
   },
   "file_extension": ".py",
   "mimetype": "text/x-python",
   "name": "python",
   "nbconvert_exporter": "python",
   "pygments_lexer": "ipython3",
   "version": "3.9.7"
  }
 },
 "nbformat": 4,
 "nbformat_minor": 4
}
